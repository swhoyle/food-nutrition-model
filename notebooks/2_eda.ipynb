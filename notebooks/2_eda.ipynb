{
 "cells": [
  {
   "cell_type": "markdown",
   "id": "cadd4bfe",
   "metadata": {},
   "source": [
    "# Step 2: Exploratory Data Analysis (EDA) and Initial Preprocessing\n",
    "\n",
    "## Purpose\n",
    "The purpose of this notebook is to perform Exploratory Data Analysis (EDA) on the filtered Open Food Facts dataset (`food.csv`) produced in Step 1. We want to understand the data structure, distributions, and relationships between features, and to identify any data quality issues before preprocessing.\n",
    "\n",
    "---\n",
    "\n",
    "#### Dataset Download\n",
    "Run `1_data_extraction.ipynb` to download the dataset `food.csv`.\n",
    "\n",
    "## Tasks\n",
    "\n",
    "### Data Exploration\n",
    "- Determine the number of observations in the dataset.\n",
    "- Describe all columns, including:\n",
    "  - Variable type (categorical, continuous, text, etc.)\n",
    "  - Scale (nominal, ordinal, ratio)\n",
    "  - Data distributions (summary statistics, value counts)\n",
    "- Identify the target column (`nutriscore_grade`) and describe its classes.\n",
    "- Detect missing values and duplicate rows.\n",
    "- For text fields or semi-structured JSON columns, provide a summary of content (e.g., most common ingredients or labels).\n",
    "\n",
    "### Data Plots\n",
    "- Visualize the data using bar charts, pie charts, histograms, scatter plots, or other appropriate plots.\n",
    "- Highlight insights from the plots, such as:\n",
    "  - Distribution of Nutri-Score grades\n",
    "  - Frequency of top categories, product, or ingredients\n",
    "  - Relationships between numeric features (e.g., sugar, fat, energy)\n",
    "  \n",
    "\n",
    "> Note: For image datasets, include examples of classes, image counts, sizes, and preprocessing requirements (cropping, resizing, normalization).  \n",
    "\n",
    "### Preprocessing Plan\n",
    "- Explain how you plan to preprocess the data in the next step, including:\n",
    "  - Handling missing values\n",
    "  - Normalizing or scaling continuous features\n",
    "  - Encoding categorical variables\n",
    "  - Handling class imbalance in the target variable\n",
    "- Do not perform preprocessing here; this will be implemented in Step 3.  \n",
    "\n",
    "---\n",
    "\n",
    "## Output\n",
    "- Insights and summary statistics from EDA.\n",
    "- Visualizations showing distributions and relationships in the data.\n",
    "- Documentation of data quality issues and preprocessing plan."
   ]
  },
  {
   "cell_type": "code",
   "execution_count": 189,
   "id": "57289fc7",
   "metadata": {},
   "outputs": [],
   "source": [
    "import os\n",
    "import pandas as pd\n",
    "import matplotlib.pyplot as plt\n",
    "import json\n",
    "import ast\n",
    "from collections import Counter"
   ]
  },
  {
   "cell_type": "markdown",
   "id": "1d621091",
   "metadata": {},
   "source": [
    "Load Dataset"
   ]
  },
  {
   "cell_type": "code",
   "execution_count": 190,
   "id": "9f7d90f3",
   "metadata": {},
   "outputs": [
    {
     "name": "stdout",
     "output_type": "stream",
     "text": [
      " Loaded: 424,297 rows × 24 columns\n"
     ]
    },
    {
     "data": {
      "text/html": [
       "<div>\n",
       "<style scoped>\n",
       "    .dataframe tbody tr th:only-of-type {\n",
       "        vertical-align: middle;\n",
       "    }\n",
       "\n",
       "    .dataframe tbody tr th {\n",
       "        vertical-align: top;\n",
       "    }\n",
       "\n",
       "    .dataframe thead th {\n",
       "        text-align: right;\n",
       "    }\n",
       "</style>\n",
       "<table border=\"1\" class=\"dataframe\">\n",
       "  <thead>\n",
       "    <tr style=\"text-align: right;\">\n",
       "      <th></th>\n",
       "      <th>code</th>\n",
       "      <th>brands</th>\n",
       "      <th>product</th>\n",
       "      <th>lang</th>\n",
       "      <th>categories_tags</th>\n",
       "      <th>food_groups_tags</th>\n",
       "      <th>labels_tags</th>\n",
       "      <th>additives_n</th>\n",
       "      <th>additives_tags</th>\n",
       "      <th>allergens_tags</th>\n",
       "      <th>...</th>\n",
       "      <th>completeness</th>\n",
       "      <th>energy</th>\n",
       "      <th>sugars</th>\n",
       "      <th>added_sugars</th>\n",
       "      <th>carbohydrates</th>\n",
       "      <th>salt</th>\n",
       "      <th>fat</th>\n",
       "      <th>trans_fat</th>\n",
       "      <th>proteins</th>\n",
       "      <th>nutriscore_grade</th>\n",
       "    </tr>\n",
       "  </thead>\n",
       "  <tbody>\n",
       "    <tr>\n",
       "      <th>0</th>\n",
       "      <td>0000105000417</td>\n",
       "      <td>Lagg's</td>\n",
       "      <td>Lagg's, dieter's herbal tea</td>\n",
       "      <td>en</td>\n",
       "      <td>['plant-based-foods-and-beverages', 'beverages...</td>\n",
       "      <td>['beverages', 'unsweetened-beverages']</td>\n",
       "      <td>NaN</td>\n",
       "      <td>0.0</td>\n",
       "      <td>[]</td>\n",
       "      <td>[]</td>\n",
       "      <td>...</td>\n",
       "      <td>0.5000</td>\n",
       "      <td>0.0</td>\n",
       "      <td>NaN</td>\n",
       "      <td>NaN</td>\n",
       "      <td>0.000000</td>\n",
       "      <td>0.00</td>\n",
       "      <td>0.000000</td>\n",
       "      <td>NaN</td>\n",
       "      <td>0.00</td>\n",
       "      <td>b</td>\n",
       "    </tr>\n",
       "    <tr>\n",
       "      <th>1</th>\n",
       "      <td>0000111048403</td>\n",
       "      <td>Canola Harvest</td>\n",
       "      <td>100% Pure Canola Oil</td>\n",
       "      <td>en</td>\n",
       "      <td>['plant-based-foods-and-beverages', 'plant-bas...</td>\n",
       "      <td>['fats-and-sauces', 'fats']</td>\n",
       "      <td>NaN</td>\n",
       "      <td>0.0</td>\n",
       "      <td>[]</td>\n",
       "      <td>[]</td>\n",
       "      <td>...</td>\n",
       "      <td>0.5000</td>\n",
       "      <td>3586.0</td>\n",
       "      <td>NaN</td>\n",
       "      <td>NaN</td>\n",
       "      <td>0.000000</td>\n",
       "      <td>0.00</td>\n",
       "      <td>100.000000</td>\n",
       "      <td>0.0</td>\n",
       "      <td>0.00</td>\n",
       "      <td>b</td>\n",
       "    </tr>\n",
       "    <tr>\n",
       "      <th>2</th>\n",
       "      <td>0000111301201</td>\n",
       "      <td>Canola Harvest</td>\n",
       "      <td>Canola Harvest® Original Vegetable Oil Spread Tub</td>\n",
       "      <td>en</td>\n",
       "      <td>['dairies']</td>\n",
       "      <td>[]</td>\n",
       "      <td>[]</td>\n",
       "      <td>4.0</td>\n",
       "      <td>['e202', 'e322', 'e322i', 'e330', 'e471']</td>\n",
       "      <td>['milk', 'soybeans']</td>\n",
       "      <td>...</td>\n",
       "      <td>0.6625</td>\n",
       "      <td>19200.0</td>\n",
       "      <td>0.0</td>\n",
       "      <td>NaN</td>\n",
       "      <td>0.000000</td>\n",
       "      <td>12.70</td>\n",
       "      <td>510.000000</td>\n",
       "      <td>0.0</td>\n",
       "      <td>0.00</td>\n",
       "      <td>e</td>\n",
       "    </tr>\n",
       "    <tr>\n",
       "      <th>3</th>\n",
       "      <td>0000111301263</td>\n",
       "      <td>Canola Harvest</td>\n",
       "      <td>Canola harvest, buttery spread, with flaxseed oil</td>\n",
       "      <td>en</td>\n",
       "      <td>['fats']</td>\n",
       "      <td>['fats-and-sauces', 'fats']</td>\n",
       "      <td>NaN</td>\n",
       "      <td>5.0</td>\n",
       "      <td>['e202', 'e322', 'e322i', 'e330', 'e385', 'e471']</td>\n",
       "      <td>['milk', 'soybeans']</td>\n",
       "      <td>...</td>\n",
       "      <td>0.5000</td>\n",
       "      <td>2389.0</td>\n",
       "      <td>0.0</td>\n",
       "      <td>NaN</td>\n",
       "      <td>0.000000</td>\n",
       "      <td>1.34</td>\n",
       "      <td>57.139999</td>\n",
       "      <td>0.0</td>\n",
       "      <td>0.00</td>\n",
       "      <td>d</td>\n",
       "    </tr>\n",
       "    <tr>\n",
       "      <th>4</th>\n",
       "      <td>0000127534587</td>\n",
       "      <td>Today's Temptations</td>\n",
       "      <td>Lithuanian Rye Bread</td>\n",
       "      <td>en</td>\n",
       "      <td>['null']</td>\n",
       "      <td>[]</td>\n",
       "      <td>NaN</td>\n",
       "      <td>0.0</td>\n",
       "      <td>[]</td>\n",
       "      <td>['gluten']</td>\n",
       "      <td>...</td>\n",
       "      <td>0.6000</td>\n",
       "      <td>1390.0</td>\n",
       "      <td>15.4</td>\n",
       "      <td>NaN</td>\n",
       "      <td>83.099998</td>\n",
       "      <td>2.46</td>\n",
       "      <td>4.610000</td>\n",
       "      <td>0.0</td>\n",
       "      <td>9.23</td>\n",
       "      <td>e</td>\n",
       "    </tr>\n",
       "  </tbody>\n",
       "</table>\n",
       "<p>5 rows × 24 columns</p>\n",
       "</div>"
      ],
      "text/plain": [
       "            code               brands  \\\n",
       "0  0000105000417               Lagg's   \n",
       "1  0000111048403       Canola Harvest   \n",
       "2  0000111301201       Canola Harvest   \n",
       "3  0000111301263       Canola Harvest   \n",
       "4  0000127534587  Today's Temptations   \n",
       "\n",
       "                                             product lang  \\\n",
       "0                        Lagg's, dieter's herbal tea   en   \n",
       "1                               100% Pure Canola Oil   en   \n",
       "2  Canola Harvest® Original Vegetable Oil Spread Tub   en   \n",
       "3  Canola harvest, buttery spread, with flaxseed oil   en   \n",
       "4                               Lithuanian Rye Bread   en   \n",
       "\n",
       "                                     categories_tags  \\\n",
       "0  ['plant-based-foods-and-beverages', 'beverages...   \n",
       "1  ['plant-based-foods-and-beverages', 'plant-bas...   \n",
       "2                                        ['dairies']   \n",
       "3                                           ['fats']   \n",
       "4                                           ['null']   \n",
       "\n",
       "                         food_groups_tags labels_tags  additives_n  \\\n",
       "0  ['beverages', 'unsweetened-beverages']         NaN          0.0   \n",
       "1             ['fats-and-sauces', 'fats']         NaN          0.0   \n",
       "2                                      []          []          4.0   \n",
       "3             ['fats-and-sauces', 'fats']         NaN          5.0   \n",
       "4                                      []         NaN          0.0   \n",
       "\n",
       "                                      additives_tags        allergens_tags  \\\n",
       "0                                                 []                    []   \n",
       "1                                                 []                    []   \n",
       "2          ['e202', 'e322', 'e322i', 'e330', 'e471']  ['milk', 'soybeans']   \n",
       "3  ['e202', 'e322', 'e322i', 'e330', 'e385', 'e471']  ['milk', 'soybeans']   \n",
       "4                                                 []            ['gluten']   \n",
       "\n",
       "   ... completeness   energy  sugars added_sugars  carbohydrates   salt  \\\n",
       "0  ...       0.5000      0.0     NaN          NaN       0.000000   0.00   \n",
       "1  ...       0.5000   3586.0     NaN          NaN       0.000000   0.00   \n",
       "2  ...       0.6625  19200.0     0.0          NaN       0.000000  12.70   \n",
       "3  ...       0.5000   2389.0     0.0          NaN       0.000000   1.34   \n",
       "4  ...       0.6000   1390.0    15.4          NaN      83.099998   2.46   \n",
       "\n",
       "          fat  trans_fat  proteins  nutriscore_grade  \n",
       "0    0.000000        NaN      0.00                 b  \n",
       "1  100.000000        0.0      0.00                 b  \n",
       "2  510.000000        0.0      0.00                 e  \n",
       "3   57.139999        0.0      0.00                 d  \n",
       "4    4.610000        0.0      9.23                 e  \n",
       "\n",
       "[5 rows x 24 columns]"
      ]
     },
     "execution_count": 190,
     "metadata": {},
     "output_type": "execute_result"
    }
   ],
   "source": [
    "dataset_path = \"../data/food.csv\"\n",
    "\n",
    "# check that it exists\n",
    "if not os.path.exists(dataset_path):\n",
    "    raise FileNotFoundError(f\"File not found: {dataset_path}\\nUse !ls ../data to check available files.\")\n",
    "\n",
    "# Load dataset\n",
    "df = pd.read_csv(dataset_path, low_memory=False)\n",
    "print(f\" Loaded: {df.shape[0]:,} rows × {df.shape[1]} columns\")\n",
    "df.head()"
   ]
  },
  {
   "cell_type": "markdown",
   "id": "f95cac41",
   "metadata": {},
   "source": [
    "### Initial Analysis"
   ]
  },
  {
   "cell_type": "code",
   "execution_count": 191,
   "id": "81251a41",
   "metadata": {},
   "outputs": [
    {
     "name": "stdout",
     "output_type": "stream",
     "text": [
      "Dataset contains 424,297 observations and 24 features.\n"
     ]
    }
   ],
   "source": [
    "# Number of rows and columns\n",
    "rows, cols = df.shape\n",
    "print(f\"Dataset contains {rows:,} observations and {cols} features.\")"
   ]
  },
  {
   "cell_type": "code",
   "execution_count": 192,
   "id": "de2bd59f",
   "metadata": {},
   "outputs": [
    {
     "data": {
      "text/plain": [
       "code                            object\n",
       "brands                          object\n",
       "product                         object\n",
       "lang                            object\n",
       "categories_tags                 object\n",
       "food_groups_tags                object\n",
       "labels_tags                     object\n",
       "additives_n                    float64\n",
       "additives_tags                  object\n",
       "allergens_tags                  object\n",
       "ingredients_analysis_tags       object\n",
       "ingredients_n                  float64\n",
       "ingredients_from_palm_oil_n    float64\n",
       "ingredients                     object\n",
       "completeness                   float64\n",
       "energy                         float64\n",
       "sugars                         float64\n",
       "added_sugars                   float64\n",
       "carbohydrates                  float64\n",
       "salt                           float64\n",
       "fat                            float64\n",
       "trans_fat                      float64\n",
       "proteins                       float64\n",
       "nutriscore_grade                object\n",
       "dtype: object"
      ]
     },
     "execution_count": 192,
     "metadata": {},
     "output_type": "execute_result"
    }
   ],
   "source": [
    "# Display data types\n",
    "df.dtypes"
   ]
  },
  {
   "cell_type": "code",
   "execution_count": 193,
   "id": "542a09e3",
   "metadata": {},
   "outputs": [
    {
     "data": {
      "text/html": [
       "<div>\n",
       "<style scoped>\n",
       "    .dataframe tbody tr th:only-of-type {\n",
       "        vertical-align: middle;\n",
       "    }\n",
       "\n",
       "    .dataframe tbody tr th {\n",
       "        vertical-align: top;\n",
       "    }\n",
       "\n",
       "    .dataframe thead th {\n",
       "        text-align: right;\n",
       "    }\n",
       "</style>\n",
       "<table border=\"1\" class=\"dataframe\">\n",
       "  <thead>\n",
       "    <tr style=\"text-align: right;\">\n",
       "      <th></th>\n",
       "      <th>count</th>\n",
       "      <th>mean</th>\n",
       "      <th>std</th>\n",
       "      <th>min</th>\n",
       "      <th>25%</th>\n",
       "      <th>50%</th>\n",
       "      <th>75%</th>\n",
       "      <th>max</th>\n",
       "    </tr>\n",
       "  </thead>\n",
       "  <tbody>\n",
       "    <tr>\n",
       "      <th>additives_n</th>\n",
       "      <td>424296.0</td>\n",
       "      <td>2.172512e+00</td>\n",
       "      <td>3.143536e+00</td>\n",
       "      <td>0.00</td>\n",
       "      <td>0.000000</td>\n",
       "      <td>1.00</td>\n",
       "      <td>3.00</td>\n",
       "      <td>3.900000e+01</td>\n",
       "    </tr>\n",
       "    <tr>\n",
       "      <th>ingredients_n</th>\n",
       "      <td>424296.0</td>\n",
       "      <td>1.592136e+01</td>\n",
       "      <td>1.704974e+01</td>\n",
       "      <td>0.00</td>\n",
       "      <td>4.000000</td>\n",
       "      <td>11.00</td>\n",
       "      <td>21.00</td>\n",
       "      <td>7.510000e+02</td>\n",
       "    </tr>\n",
       "    <tr>\n",
       "      <th>ingredients_from_palm_oil_n</th>\n",
       "      <td>338465.0</td>\n",
       "      <td>1.078398e-03</td>\n",
       "      <td>3.344550e-02</td>\n",
       "      <td>0.00</td>\n",
       "      <td>0.000000</td>\n",
       "      <td>0.00</td>\n",
       "      <td>0.00</td>\n",
       "      <td>2.000000e+00</td>\n",
       "    </tr>\n",
       "    <tr>\n",
       "      <th>completeness</th>\n",
       "      <td>424297.0</td>\n",
       "      <td>5.573207e-01</td>\n",
       "      <td>1.323190e-01</td>\n",
       "      <td>0.20</td>\n",
       "      <td>0.475000</td>\n",
       "      <td>0.55</td>\n",
       "      <td>0.60</td>\n",
       "      <td>1.100000e+00</td>\n",
       "    </tr>\n",
       "    <tr>\n",
       "      <th>energy</th>\n",
       "      <td>420317.0</td>\n",
       "      <td>1.467027e+14</td>\n",
       "      <td>9.511006e+16</td>\n",
       "      <td>0.00</td>\n",
       "      <td>354.000000</td>\n",
       "      <td>1100.00</td>\n",
       "      <td>1790.00</td>\n",
       "      <td>6.166162e+19</td>\n",
       "    </tr>\n",
       "    <tr>\n",
       "      <th>sugars</th>\n",
       "      <td>411261.0</td>\n",
       "      <td>2.431564e+06</td>\n",
       "      <td>1.559341e+09</td>\n",
       "      <td>-1.45</td>\n",
       "      <td>1.180000</td>\n",
       "      <td>5.04</td>\n",
       "      <td>22.67</td>\n",
       "      <td>1.000000e+12</td>\n",
       "    </tr>\n",
       "    <tr>\n",
       "      <th>added_sugars</th>\n",
       "      <td>24834.0</td>\n",
       "      <td>1.275623e+01</td>\n",
       "      <td>9.899108e+01</td>\n",
       "      <td>0.00</td>\n",
       "      <td>0.000000</td>\n",
       "      <td>0.00</td>\n",
       "      <td>11.20</td>\n",
       "      <td>9.000000e+03</td>\n",
       "    </tr>\n",
       "    <tr>\n",
       "      <th>carbohydrates</th>\n",
       "      <td>419493.0</td>\n",
       "      <td>1.183488e+25</td>\n",
       "      <td>7.665248e+27</td>\n",
       "      <td>0.00</td>\n",
       "      <td>6.250000</td>\n",
       "      <td>22.40</td>\n",
       "      <td>58.50</td>\n",
       "      <td>4.964649e+30</td>\n",
       "    </tr>\n",
       "    <tr>\n",
       "      <th>salt</th>\n",
       "      <td>420181.0</td>\n",
       "      <td>3.856932e+00</td>\n",
       "      <td>6.019403e+02</td>\n",
       "      <td>0.00</td>\n",
       "      <td>0.025900</td>\n",
       "      <td>0.45</td>\n",
       "      <td>1.25</td>\n",
       "      <td>3.559425e+05</td>\n",
       "    </tr>\n",
       "    <tr>\n",
       "      <th>fat</th>\n",
       "      <td>420295.0</td>\n",
       "      <td>1.105549e+20</td>\n",
       "      <td>7.167291e+22</td>\n",
       "      <td>0.00</td>\n",
       "      <td>0.000000</td>\n",
       "      <td>5.90</td>\n",
       "      <td>21.00</td>\n",
       "      <td>4.646567e+25</td>\n",
       "    </tr>\n",
       "    <tr>\n",
       "      <th>trans_fat</th>\n",
       "      <td>250302.0</td>\n",
       "      <td>5.896587e-02</td>\n",
       "      <td>1.370468e+00</td>\n",
       "      <td>0.00</td>\n",
       "      <td>0.000000</td>\n",
       "      <td>0.00</td>\n",
       "      <td>0.00</td>\n",
       "      <td>1.530000e+02</td>\n",
       "    </tr>\n",
       "    <tr>\n",
       "      <th>proteins</th>\n",
       "      <td>420282.0</td>\n",
       "      <td>8.832909e+00</td>\n",
       "      <td>2.532855e+01</td>\n",
       "      <td>-12.60</td>\n",
       "      <td>0.666667</td>\n",
       "      <td>4.88</td>\n",
       "      <td>10.91</td>\n",
       "      <td>9.100000e+03</td>\n",
       "    </tr>\n",
       "  </tbody>\n",
       "</table>\n",
       "</div>"
      ],
      "text/plain": [
       "                                count          mean           std    min  \\\n",
       "additives_n                  424296.0  2.172512e+00  3.143536e+00   0.00   \n",
       "ingredients_n                424296.0  1.592136e+01  1.704974e+01   0.00   \n",
       "ingredients_from_palm_oil_n  338465.0  1.078398e-03  3.344550e-02   0.00   \n",
       "completeness                 424297.0  5.573207e-01  1.323190e-01   0.20   \n",
       "energy                       420317.0  1.467027e+14  9.511006e+16   0.00   \n",
       "sugars                       411261.0  2.431564e+06  1.559341e+09  -1.45   \n",
       "added_sugars                  24834.0  1.275623e+01  9.899108e+01   0.00   \n",
       "carbohydrates                419493.0  1.183488e+25  7.665248e+27   0.00   \n",
       "salt                         420181.0  3.856932e+00  6.019403e+02   0.00   \n",
       "fat                          420295.0  1.105549e+20  7.167291e+22   0.00   \n",
       "trans_fat                    250302.0  5.896587e-02  1.370468e+00   0.00   \n",
       "proteins                     420282.0  8.832909e+00  2.532855e+01 -12.60   \n",
       "\n",
       "                                    25%      50%      75%           max  \n",
       "additives_n                    0.000000     1.00     3.00  3.900000e+01  \n",
       "ingredients_n                  4.000000    11.00    21.00  7.510000e+02  \n",
       "ingredients_from_palm_oil_n    0.000000     0.00     0.00  2.000000e+00  \n",
       "completeness                   0.475000     0.55     0.60  1.100000e+00  \n",
       "energy                       354.000000  1100.00  1790.00  6.166162e+19  \n",
       "sugars                         1.180000     5.04    22.67  1.000000e+12  \n",
       "added_sugars                   0.000000     0.00    11.20  9.000000e+03  \n",
       "carbohydrates                  6.250000    22.40    58.50  4.964649e+30  \n",
       "salt                           0.025900     0.45     1.25  3.559425e+05  \n",
       "fat                            0.000000     5.90    21.00  4.646567e+25  \n",
       "trans_fat                      0.000000     0.00     0.00  1.530000e+02  \n",
       "proteins                       0.666667     4.88    10.91  9.100000e+03  "
      ]
     },
     "execution_count": 193,
     "metadata": {},
     "output_type": "execute_result"
    }
   ],
   "source": [
    "# Summary statistics for numeric columns\n",
    "num_cols = [\"additives_n\",\"ingredients_n\",\"ingredients_from_palm_oil_n\",\"completeness\",\"energy\",\"sugars\",\"added_sugars\",\"carbohydrates\",\"salt\",\"fat\",\"trans_fat\",\"proteins\"]\n",
    "df[num_cols].describe().T"
   ]
  },
  {
   "cell_type": "markdown",
   "id": "a5d7c84a",
   "metadata": {},
   "source": [
    "Numeric columns (nutrients and counts) are right-skewed, with many low values and a few extreme outliers.\n",
    "\n",
    "- `energy` values vary widely, suggesting mixed units (kcal vs kJ) — will need normalization later.\n",
    "- `completeness` averages around 0.6, meaning most records are moderately detailed."
   ]
  },
  {
   "cell_type": "code",
   "execution_count": 194,
   "id": "fd1c1923",
   "metadata": {},
   "outputs": [
    {
     "name": "stdout",
     "output_type": "stream",
     "text": [
      "\n",
      "Top categories for brands:\n",
      "brands\n",
      "Wawa                  2544\n",
      "Tesco                 2449\n",
      "Great Value           2023\n",
      "Meijer                1908\n",
      "Jersey Mike's Subs    1828\n",
      "Name: count, dtype: int64\n",
      "\n",
      "Top categories for categories_tags:\n",
      "categories_tags\n",
      "['undefined']                                            32335\n",
      "['snacks']                                               31113\n",
      "['snacks', 'sweet-snacks', 'confectioneries']            12933\n",
      "['condiments', 'sauces', 'groceries']                    10948\n",
      "['beverages-and-beverages-preparations', 'beverages']    10697\n",
      "Name: count, dtype: int64\n",
      "\n",
      "Top categories for labels_tags:\n",
      "labels_tags\n",
      "[]                                27360\n",
      "['organic']                       11326\n",
      "['no-gluten']                      6933\n",
      "['no-gmos', 'non-gmo-project']     6765\n",
      "['vegetarian', 'vegan']            4083\n",
      "Name: count, dtype: int64\n",
      "\n",
      "Top categories for lang:\n",
      "lang\n",
      "en    424297\n",
      "Name: count, dtype: int64\n",
      "\n",
      "Top categories for nutriscore_grade:\n",
      "nutriscore_grade\n",
      "e    134562\n",
      "d     98591\n",
      "c     81611\n",
      "a     62500\n",
      "b     47033\n",
      "Name: count, dtype: int64\n"
     ]
    }
   ],
   "source": [
    "# Summary statistics for categorical columns\n",
    "# View value counts for key categorical variables\n",
    "cat_cols = [\"brands\",\"categories_tags\",\"labels_tags\",\"lang\",\"nutriscore_grade\"]\n",
    "for c in cat_cols:\n",
    "    print(f\"\\nTop categories for {c}:\")\n",
    "    print(df[c].value_counts().head(5))"
   ]
  },
  {
   "cell_type": "markdown",
   "id": "92bc1241",
   "metadata": {},
   "source": [
    "- `Brands`: Highly diverse, thousands of unique brands.\n",
    "- `Categories`: Common tags include snacks, sweet-snacks, condiments, sauces, groceries, beverages, and etc.\n",
    "- `Labels`: sparse, most entries lack label tags.\n",
    "- `Language`: Filtered for English (en).\n",
    "- `Nutri-Score` (target): All five grades (A–E) are represented."
   ]
  },
  {
   "cell_type": "markdown",
   "id": "e290113d",
   "metadata": {},
   "source": [
    "### Column Analysis"
   ]
  },
  {
   "cell_type": "code",
   "execution_count": 195,
   "id": "e8a9313e",
   "metadata": {},
   "outputs": [
    {
     "data": {
      "text/plain": [
       "Index(['code', 'brands', 'product', 'lang', 'categories_tags',\n",
       "       'food_groups_tags', 'labels_tags', 'additives_n', 'additives_tags',\n",
       "       'allergens_tags', 'ingredients_analysis_tags', 'ingredients_n',\n",
       "       'ingredients_from_palm_oil_n', 'ingredients', 'completeness', 'energy',\n",
       "       'sugars', 'added_sugars', 'carbohydrates', 'salt', 'fat', 'trans_fat',\n",
       "       'proteins', 'nutriscore_grade'],\n",
       "      dtype='object')"
      ]
     },
     "execution_count": 195,
     "metadata": {},
     "output_type": "execute_result"
    }
   ],
   "source": [
    "df.columns"
   ]
  },
  {
   "cell_type": "markdown",
   "id": "24a33e58",
   "metadata": {},
   "source": [
    "##### `code`: Unique product code"
   ]
  },
  {
   "cell_type": "code",
   "execution_count": 196,
   "id": "cde156e6",
   "metadata": {},
   "outputs": [
    {
     "name": "stdout",
     "output_type": "stream",
     "text": [
      "Number of unique codes: 424297\n",
      "Number of duplicated codes: 0\n"
     ]
    },
    {
     "data": {
      "text/plain": [
       "0    0000105000417\n",
       "1    0000111048403\n",
       "2    0000111301201\n",
       "3    0000111301263\n",
       "4    0000127534587\n",
       "Name: code, dtype: object"
      ]
     },
     "execution_count": 196,
     "metadata": {},
     "output_type": "execute_result"
    }
   ],
   "source": [
    "print('Number of unique codes:', df[\"code\"].nunique())\n",
    "print('Number of duplicated codes:', df[\"code\"].duplicated().sum())\n",
    "df[\"code\"].head()"
   ]
  },
  {
   "cell_type": "markdown",
   "id": "2cb98e97",
   "metadata": {},
   "source": [
    "code is a unique identifier for each row / product. There are no duplicates."
   ]
  },
  {
   "cell_type": "markdown",
   "id": "a4d25e69",
   "metadata": {},
   "source": [
    "##### `brands`: Brand name of the food product"
   ]
  },
  {
   "cell_type": "code",
   "execution_count": 197,
   "id": "ccb90a8a",
   "metadata": {},
   "outputs": [
    {
     "name": "stdout",
     "output_type": "stream",
     "text": [
      "Number of unique brands: 59855\n",
      "\n",
      "Statistics for number of products per brand:\n",
      "count    59855.000000\n",
      "mean         5.135043\n",
      "std         36.524418\n",
      "min          1.000000\n",
      "25%          1.000000\n",
      "50%          1.000000\n",
      "75%          2.000000\n",
      "max       2544.000000\n",
      "Name: count, dtype: float64\n"
     ]
    },
    {
     "data": {
      "image/png": "[encoded data removed]",
      "text/plain": [
       "<Figure size 1200x400 with 2 Axes>"
      ]
     },
     "metadata": {},
     "output_type": "display_data"
    },
    {
     "name": "stdout",
     "output_type": "stream",
     "text": [
      "\n",
      "Top 10 most common brands:\n",
      "                    Count Percentage\n",
      "brands                              \n",
      "Wawa                 2544      0.83%\n",
      "Tesco                2449       0.8%\n",
      "Great Value          2023      0.66%\n",
      "Meijer               1908      0.62%\n",
      "Jersey Mike's Subs   1828      0.59%\n",
      "Papa John's          1804      0.59%\n",
      "Kroger               1764      0.57%\n",
      "Sheetz               1607      0.52%\n",
      "Trader Joe's         1398      0.45%\n",
      "Asda                 1232       0.4%\n"
     ]
    }
   ],
   "source": [
    "print('Number of unique brands:', df[\"brands\"].nunique())\n",
    "\n",
    "print(\"\\nStatistics for number of products per brand:\")\n",
    "print(df[\"brands\"].value_counts().describe())\n",
    "\n",
    "# Histogram of products per brand\n",
    "brand_count = df['brands'].value_counts()\n",
    "fig, axes = plt.subplots(1, 2, figsize=(12, 4))\n",
    "\n",
    "# Left: normal scale\n",
    "axes[0].hist(brand_count, bins=50)\n",
    "axes[0].set_title('Normal Scale')\n",
    "axes[0].set_xlabel('Products per Brand')\n",
    "axes[0].set_ylabel('Number of Brands')\n",
    "\n",
    "# Right: log scale (shows skew clearly)\n",
    "axes[1].hist(brand_count, bins=50)\n",
    "axes[1].set_yscale('log')\n",
    "axes[1].set_title('Log Scale (shows skew)')\n",
    "axes[1].set_xlabel('Products per Brand')\n",
    "axes[1].set_ylabel('Number of Brands')\n",
    "\n",
    "plt.tight_layout()\n",
    "plt.show()\n",
    "\n",
    "print(\"\\nTop 10 most common brands:\")\n",
    "brand_counts = df[\"brands\"].value_counts()\n",
    "brand_percentages = df[\"brands\"].value_counts(normalize=True)\n",
    "top_10_brands = pd.DataFrame({\"Count\": brand_counts, \"Percentage\": round(brand_percentages * 100, 2).astype(str) + \"%\"}).head(10)\n",
    "print(top_10_brands)\n",
    "\n"
   ]
  },
  {
   "cell_type": "markdown",
   "id": "775ec7e2",
   "metadata": {},
   "source": [
    "A few brands dominate the dataset.\n",
    "This could bias learning toward those brands if not handled properly (e.g., randomizing or excluding brand identifiers during model training). However, no brand has more than 1% of the products in the dataset so it isn't too concerning."
   ]
  },
  {
   "cell_type": "markdown",
   "id": "9f6a0dfd",
   "metadata": {},
   "source": [
    "##### `product`: Name of the food product"
   ]
  },
  {
   "cell_type": "code",
   "execution_count": 198,
   "id": "26358da8",
   "metadata": {},
   "outputs": [
    {
     "name": "stdout",
     "output_type": "stream",
     "text": [
      "Number of unique products: 294108\n",
      "\n",
      "Statistics for number of products per brand:\n",
      "count    294108.000000\n",
      "mean          1.442616\n",
      "std           5.421838\n",
      "min           1.000000\n",
      "25%           1.000000\n",
      "50%           1.000000\n",
      "75%           1.000000\n",
      "max        2163.000000\n",
      "Name: count, dtype: float64\n"
     ]
    },
    {
     "data": {
      "image/png": "[encoded data removed]",
      "text/plain": [
       "<Figure size 1200x400 with 2 Axes>"
      ]
     },
     "metadata": {},
     "output_type": "display_data"
    },
    {
     "name": "stdout",
     "output_type": "stream",
     "text": [
      "\n",
      "Top 10 most common products:\n",
      "                        Count Percentage\n",
      "product                                 \n",
      "[]                       2163      0.51%\n",
      "Ice cream                 583      0.14%\n",
      "Soda                      460      0.11%\n",
      "Ice Cream                 415       0.1%\n",
      "Extra Virgin Olive Oil    336      0.08%\n",
      "Potato chips              317      0.07%\n",
      "Potato Chips              275      0.06%\n",
      "Popcorn                   272      0.06%\n",
      "Cookies                   240      0.06%\n",
      "Premium ice cream         239      0.06%\n"
     ]
    }
   ],
   "source": [
    "print('Number of unique products:', df[\"product\"].nunique())\n",
    "\n",
    "print(\"\\nStatistics for number of products per brand:\")\n",
    "print(df[\"product\"].value_counts().describe())\n",
    "\n",
    "# Histogram of products per brand\n",
    "brand_count = df['product'].value_counts()\n",
    "fig, axes = plt.subplots(1, 2, figsize=(12, 4))\n",
    "\n",
    "# Left: normal scale\n",
    "axes[0].hist(brand_count, bins=50)\n",
    "axes[0].set_title('Normal Scale')\n",
    "axes[0].set_xlabel('Products')\n",
    "axes[0].set_ylabel('Number of Products')\n",
    "\n",
    "# Right: log scale (shows skew clearly)\n",
    "axes[1].hist(brand_count, bins=50)\n",
    "axes[1].set_yscale('log')\n",
    "axes[1].set_title('Log Scale (shows skew)')\n",
    "axes[1].set_xlabel('Products')\n",
    "axes[1].set_ylabel('Number of Products')\n",
    "\n",
    "plt.tight_layout()\n",
    "plt.show()\n",
    "\n",
    "print(\"\\nTop 10 most common products:\")\n",
    "product_counts = df[\"product\"].value_counts()\n",
    "product_percentages = df[\"product\"].value_counts(normalize=True)\n",
    "top_10_products = pd.DataFrame({\"Count\": product_counts, \"Percentage\": round(product_percentages * 100, 2).astype(str) + \"%\"}).head(10)\n",
    "print(top_10_products)\n",
    "\n"
   ]
  },
  {
   "cell_type": "markdown",
   "id": "3a0715c1",
   "metadata": {},
   "source": [
    "There are products with the exact same name. However, this doesn't look like an issue as many are generic names, such as \"Ice cream\" and \"Popcorn\". We should investigate that each product has a unique brand + product name. "
   ]
  },
  {
   "cell_type": "code",
   "execution_count": 199,
   "id": "940be990",
   "metadata": {},
   "outputs": [
    {
     "name": "stdout",
     "output_type": "stream",
     "text": [
      "Number of duplicate brand + product combinations: 24763\n"
     ]
    },
    {
     "data": {
      "text/html": [
       "<div>\n",
       "<style scoped>\n",
       "    .dataframe tbody tr th:only-of-type {\n",
       "        vertical-align: middle;\n",
       "    }\n",
       "\n",
       "    .dataframe tbody tr th {\n",
       "        vertical-align: top;\n",
       "    }\n",
       "\n",
       "    .dataframe thead th {\n",
       "        text-align: right;\n",
       "    }\n",
       "</style>\n",
       "<table border=\"1\" class=\"dataframe\">\n",
       "  <thead>\n",
       "    <tr style=\"text-align: right;\">\n",
       "      <th></th>\n",
       "      <th>brands</th>\n",
       "      <th>product</th>\n",
       "      <th>counts</th>\n",
       "    </tr>\n",
       "  </thead>\n",
       "  <tbody>\n",
       "    <tr>\n",
       "      <th>102206</th>\n",
       "      <td>Heinz</td>\n",
       "      <td>Tomato Ketchup</td>\n",
       "      <td>37</td>\n",
       "    </tr>\n",
       "    <tr>\n",
       "      <th>258462</th>\n",
       "      <td>Weis</td>\n",
       "      <td>Premium Ice Cream</td>\n",
       "      <td>34</td>\n",
       "    </tr>\n",
       "    <tr>\n",
       "      <th>264882</th>\n",
       "      <td>Wilton,  Wilton Enterprises Inc</td>\n",
       "      <td>Wilton, icing decorations</td>\n",
       "      <td>33</td>\n",
       "    </tr>\n",
       "    <tr>\n",
       "      <th>253328</th>\n",
       "      <td>Waitrose</td>\n",
       "      <td>[]</td>\n",
       "      <td>31</td>\n",
       "    </tr>\n",
       "    <tr>\n",
       "      <th>235706</th>\n",
       "      <td>Tesco</td>\n",
       "      <td>[]</td>\n",
       "      <td>29</td>\n",
       "    </tr>\n",
       "    <tr>\n",
       "      <th>...</th>\n",
       "      <td>...</td>\n",
       "      <td>...</td>\n",
       "      <td>...</td>\n",
       "    </tr>\n",
       "    <tr>\n",
       "      <th>167934</th>\n",
       "      <td>O'Charley's</td>\n",
       "      <td>O'Charley's, French Silk Pie</td>\n",
       "      <td>2</td>\n",
       "    </tr>\n",
       "    <tr>\n",
       "      <th>167933</th>\n",
       "      <td>O'Charley's</td>\n",
       "      <td>O'Charley's, French Fries, Kids</td>\n",
       "      <td>2</td>\n",
       "    </tr>\n",
       "    <tr>\n",
       "      <th>167932</th>\n",
       "      <td>O'Charley's</td>\n",
       "      <td>O'Charley's, French Fries</td>\n",
       "      <td>2</td>\n",
       "    </tr>\n",
       "    <tr>\n",
       "      <th>167931</th>\n",
       "      <td>O'Charley's</td>\n",
       "      <td>O'Charley's, Double Crust Cherry Pie, Whole</td>\n",
       "      <td>2</td>\n",
       "    </tr>\n",
       "    <tr>\n",
       "      <th>276525</th>\n",
       "      <td>เผือกรสทิพย์</td>\n",
       "      <td>เผือกหอมทอดกรอบ</td>\n",
       "      <td>2</td>\n",
       "    </tr>\n",
       "  </tbody>\n",
       "</table>\n",
       "<p>24763 rows × 3 columns</p>\n",
       "</div>"
      ],
      "text/plain": [
       "                                 brands  \\\n",
       "102206                            Heinz   \n",
       "258462                             Weis   \n",
       "264882  Wilton,  Wilton Enterprises Inc   \n",
       "253328                         Waitrose   \n",
       "235706                            Tesco   \n",
       "...                                 ...   \n",
       "167934                      O'Charley's   \n",
       "167933                      O'Charley's   \n",
       "167932                      O'Charley's   \n",
       "167931                      O'Charley's   \n",
       "276525                     เผือกรสทิพย์   \n",
       "\n",
       "                                            product  counts  \n",
       "102206                               Tomato Ketchup      37  \n",
       "258462                            Premium Ice Cream      34  \n",
       "264882                    Wilton, icing decorations      33  \n",
       "253328                                           []      31  \n",
       "235706                                           []      29  \n",
       "...                                             ...     ...  \n",
       "167934                 O'Charley's, French Silk Pie       2  \n",
       "167933              O'Charley's, French Fries, Kids       2  \n",
       "167932                    O'Charley's, French Fries       2  \n",
       "167931  O'Charley's, Double Crust Cherry Pie, Whole       2  \n",
       "276525                              เผือกหอมทอดกรอบ       2  \n",
       "\n",
       "[24763 rows x 3 columns]"
      ]
     },
     "execution_count": 199,
     "metadata": {},
     "output_type": "execute_result"
    }
   ],
   "source": [
    "# check for duplicate brand + product combinations\n",
    "dup_counts = df.groupby([\"brands\", \"product\"]).size().reset_index(name=\"counts\")\n",
    "dup_brand_product = dup_counts[dup_counts[\"counts\"] > 1].sort_values(by=\"counts\", ascending=False)\n",
    "print(f\"Number of duplicate brand + product combinations: {len(dup_brand_product)}\")\n",
    "dup_brand_product"
   ]
  },
  {
   "cell_type": "markdown",
   "id": "c213acd3",
   "metadata": {},
   "source": [
    "We identified ~25,000 duplicate brand + product combinations. These may be true duplicates or distinct product variations. To reduce noise and bias, we can keep only the record with the highest completion % for identical duplicates while preserving unique variations (e.g., different sizes or formats). This ensures the dataset contains high-quality, unique product entries for modeling.\n"
   ]
  },
  {
   "cell_type": "code",
   "execution_count": 200,
   "id": "5003e663",
   "metadata": {},
   "outputs": [
    {
     "data": {
      "text/html": [
       "<div>\n",
       "<style scoped>\n",
       "    .dataframe tbody tr th:only-of-type {\n",
       "        vertical-align: middle;\n",
       "    }\n",
       "\n",
       "    .dataframe tbody tr th {\n",
       "        vertical-align: top;\n",
       "    }\n",
       "\n",
       "    .dataframe thead th {\n",
       "        text-align: right;\n",
       "    }\n",
       "</style>\n",
       "<table border=\"1\" class=\"dataframe\">\n",
       "  <thead>\n",
       "    <tr style=\"text-align: right;\">\n",
       "      <th></th>\n",
       "      <th>code</th>\n",
       "      <th>brands</th>\n",
       "      <th>product</th>\n",
       "      <th>lang</th>\n",
       "      <th>categories_tags</th>\n",
       "      <th>food_groups_tags</th>\n",
       "      <th>labels_tags</th>\n",
       "      <th>additives_n</th>\n",
       "      <th>additives_tags</th>\n",
       "      <th>allergens_tags</th>\n",
       "      <th>...</th>\n",
       "      <th>completeness</th>\n",
       "      <th>energy</th>\n",
       "      <th>sugars</th>\n",
       "      <th>added_sugars</th>\n",
       "      <th>carbohydrates</th>\n",
       "      <th>salt</th>\n",
       "      <th>fat</th>\n",
       "      <th>trans_fat</th>\n",
       "      <th>proteins</th>\n",
       "      <th>nutriscore_grade</th>\n",
       "    </tr>\n",
       "  </thead>\n",
       "  <tbody>\n",
       "    <tr>\n",
       "      <th>149937</th>\n",
       "      <td>50457250</td>\n",
       "      <td>Heinz</td>\n",
       "      <td>Tomato Ketchup</td>\n",
       "      <td>en</td>\n",
       "      <td>['condiments', 'sauces', 'tomato-sauces', 'ket...</td>\n",
       "      <td>['fats-and-sauces', 'dressings-and-sauces']</td>\n",
       "      <td>['no-gluten', 'vegetarian', 'no-artificial-fla...</td>\n",
       "      <td>0.0</td>\n",
       "      <td>[]</td>\n",
       "      <td>['celery']</td>\n",
       "      <td>...</td>\n",
       "      <td>1.0000</td>\n",
       "      <td>435.0</td>\n",
       "      <td>22.799999</td>\n",
       "      <td>NaN</td>\n",
       "      <td>23.200001</td>\n",
       "      <td>1.80</td>\n",
       "      <td>0.1</td>\n",
       "      <td>NaN</td>\n",
       "      <td>1.2</td>\n",
       "      <td>d</td>\n",
       "    </tr>\n",
       "    <tr>\n",
       "      <th>95572</th>\n",
       "      <td>01312403</td>\n",
       "      <td>Heinz</td>\n",
       "      <td>Tomato Ketchup</td>\n",
       "      <td>en</td>\n",
       "      <td>['condiments', 'specific-products', 'products-...</td>\n",
       "      <td>['fats-and-sauces', 'dressings-and-sauces']</td>\n",
       "      <td>['no-gluten', 'kosher', 'orthodox-union-kosher']</td>\n",
       "      <td>0.0</td>\n",
       "      <td>[]</td>\n",
       "      <td>[]</td>\n",
       "      <td>...</td>\n",
       "      <td>0.9875</td>\n",
       "      <td>494.0</td>\n",
       "      <td>23.500000</td>\n",
       "      <td>23.5</td>\n",
       "      <td>NaN</td>\n",
       "      <td>2.65</td>\n",
       "      <td>0.0</td>\n",
       "      <td>0.0</td>\n",
       "      <td>0.0</td>\n",
       "      <td>e</td>\n",
       "    </tr>\n",
       "    <tr>\n",
       "      <th>57671</th>\n",
       "      <td>0057000013165</td>\n",
       "      <td>Heinz</td>\n",
       "      <td>Tomato Ketchup</td>\n",
       "      <td>en</td>\n",
       "      <td>['condiments', 'sauces', 'tomato-sauces', 'ket...</td>\n",
       "      <td>['fats-and-sauces', 'dressings-and-sauces']</td>\n",
       "      <td>['kosher', 'orthodox-union-kosher']</td>\n",
       "      <td>0.0</td>\n",
       "      <td>[]</td>\n",
       "      <td>[]</td>\n",
       "      <td>...</td>\n",
       "      <td>0.9875</td>\n",
       "      <td>560.0</td>\n",
       "      <td>26.700001</td>\n",
       "      <td>NaN</td>\n",
       "      <td>33.299999</td>\n",
       "      <td>2.33</td>\n",
       "      <td>0.0</td>\n",
       "      <td>0.0</td>\n",
       "      <td>2.0</td>\n",
       "      <td>d</td>\n",
       "    </tr>\n",
       "  </tbody>\n",
       "</table>\n",
       "<p>3 rows × 24 columns</p>\n",
       "</div>"
      ],
      "text/plain": [
       "                 code brands         product lang  \\\n",
       "149937       50457250  Heinz  Tomato Ketchup   en   \n",
       "95572        01312403  Heinz  Tomato Ketchup   en   \n",
       "57671   0057000013165  Heinz  Tomato Ketchup   en   \n",
       "\n",
       "                                          categories_tags  \\\n",
       "149937  ['condiments', 'sauces', 'tomato-sauces', 'ket...   \n",
       "95572   ['condiments', 'specific-products', 'products-...   \n",
       "57671   ['condiments', 'sauces', 'tomato-sauces', 'ket...   \n",
       "\n",
       "                                   food_groups_tags  \\\n",
       "149937  ['fats-and-sauces', 'dressings-and-sauces']   \n",
       "95572   ['fats-and-sauces', 'dressings-and-sauces']   \n",
       "57671   ['fats-and-sauces', 'dressings-and-sauces']   \n",
       "\n",
       "                                              labels_tags  additives_n  \\\n",
       "149937  ['no-gluten', 'vegetarian', 'no-artificial-fla...          0.0   \n",
       "95572    ['no-gluten', 'kosher', 'orthodox-union-kosher']          0.0   \n",
       "57671                 ['kosher', 'orthodox-union-kosher']          0.0   \n",
       "\n",
       "       additives_tags allergens_tags  ... completeness  energy     sugars  \\\n",
       "149937             []     ['celery']  ...       1.0000   435.0  22.799999   \n",
       "95572              []             []  ...       0.9875   494.0  23.500000   \n",
       "57671              []             []  ...       0.9875   560.0  26.700001   \n",
       "\n",
       "       added_sugars  carbohydrates  salt  fat  trans_fat  proteins  \\\n",
       "149937          NaN      23.200001  1.80  0.1        NaN       1.2   \n",
       "95572          23.5            NaN  2.65  0.0        0.0       0.0   \n",
       "57671           NaN      33.299999  2.33  0.0        0.0       2.0   \n",
       "\n",
       "        nutriscore_grade  \n",
       "149937                 d  \n",
       "95572                  e  \n",
       "57671                  d  \n",
       "\n",
       "[3 rows x 24 columns]"
      ]
     },
     "execution_count": 200,
     "metadata": {},
     "output_type": "execute_result"
    }
   ],
   "source": [
    "# Example of duplicate brand/product name entries and their completeness\n",
    "df[(df[\"brands\"] == \"Heinz\") & (df[\"product\"] == \"Tomato Ketchup\")].sort_values(by=\"completeness\", ascending=False).head(3)"
   ]
  },
  {
   "cell_type": "markdown",
   "id": "541275f6",
   "metadata": {},
   "source": [
    "##### `lang`: Language of the product"
   ]
  },
  {
   "cell_type": "code",
   "execution_count": 201,
   "id": "3429a7bc",
   "metadata": {},
   "outputs": [
    {
     "data": {
      "text/plain": [
       "lang\n",
       "en    424297\n",
       "Name: count, dtype: int64"
      ]
     },
     "execution_count": 201,
     "metadata": {},
     "output_type": "execute_result"
    }
   ],
   "source": [
    "df[\"lang\"].value_counts()"
   ]
  },
  {
   "cell_type": "markdown",
   "id": "220a6a28",
   "metadata": {},
   "source": [
    "All products are in english (en) language"
   ]
  },
  {
   "cell_type": "markdown",
   "id": "3ccc537f",
   "metadata": {},
   "source": [
    "##### `categories_tags`: List of category tags"
   ]
  },
  {
   "cell_type": "code",
   "execution_count": 202,
   "id": "5146bddb",
   "metadata": {},
   "outputs": [
    {
     "data": {
      "text/plain": [
       "0    ['plant-based-foods-and-beverages', 'beverages...\n",
       "1    ['plant-based-foods-and-beverages', 'plant-bas...\n",
       "2                                          ['dairies']\n",
       "3                                             ['fats']\n",
       "4                                             ['null']\n",
       "Name: categories_tags, dtype: object"
      ]
     },
     "execution_count": 202,
     "metadata": {},
     "output_type": "execute_result"
    }
   ],
   "source": [
    "df[\"categories_tags\"].head()"
   ]
  },
  {
   "cell_type": "code",
   "execution_count": 203,
   "id": "8eab19ad",
   "metadata": {},
   "outputs": [
    {
     "name": "stdout",
     "output_type": "stream",
     "text": [
      "categories_tags count statistics:\n",
      "count    424297.000000\n",
      "mean          3.730552\n",
      "std           2.699415\n",
      "min           1.000000\n",
      "25%           1.000000\n",
      "50%           3.000000\n",
      "75%           5.000000\n",
      "max          31.000000\n",
      "Name: num_categories_tags, dtype: float64\n",
      "\n",
      "Number of unique categories_tags: 18026\n"
     ]
    },
    {
     "data": {
      "image/png": "[encoded data removed]",
      "text/plain": [
       "<Figure size 1000x600 with 1 Axes>"
      ]
     },
     "metadata": {},
     "output_type": "display_data"
    },
    {
     "name": "stdout",
     "output_type": "stream",
     "text": [
      "\n",
      "Saved categories_tags counts to ../data/categories_tags_counts.json\n"
     ]
    }
   ],
   "source": [
    "def tag_analysis(tag_column):\n",
    "\n",
    "    df[f\"num_{tag_column}\"] = df[tag_column].apply(lambda x: len(eval(x)) if pd.notnull(x) else 0)\n",
    "    print(f\"{tag_column} count statistics:\")\n",
    "    print(df[f\"num_{tag_column}\"].describe())\n",
    "\n",
    "    tag_counts = Counter()\n",
    "\n",
    "    for tags in df[tag_column].dropna():\n",
    "        if isinstance(tags, str):\n",
    "            tags = ast.literal_eval(tags)\n",
    "        for tag in tags:\n",
    "            tag_counts[tag] += 1\n",
    "\n",
    "    # Number of unique tags\n",
    "    print(f\"\\nNumber of unique {tag_column}: {len(tag_counts)}\")\n",
    "\n",
    "    # Plot Top 10 tags\n",
    "    top_tags, top_counts = zip(*tag_counts.most_common(10))\n",
    "    plt.figure(figsize=(10, 6))\n",
    "    plt.barh(top_tags, top_counts)\n",
    "    plt.xlabel('Counts')\n",
    "    plt.title(f'Top 10 {tag_column}')\n",
    "    plt.gca().invert_yaxis()  # Highest count on top\n",
    "    plt.show()\n",
    "\n",
    "    # save tag counts to json (sorted)\n",
    "    with open(f\"../data/{tag_column}_counts.json\", \"w\") as f:\n",
    "        json.dump(dict(sorted(tag_counts.items(), key=lambda item: item[1], reverse=True)), f)\n",
    "\n",
    "    print(f\"\\nSaved {tag_column} counts to ../data/{tag_column}_counts.json\")\n",
    "\n",
    "tag_analysis(\"categories_tags\")"
   ]
  },
  {
   "cell_type": "markdown",
   "id": "b42a67c5",
   "metadata": {},
   "source": [
    "##### `food_groups_tags`: List of food group tags"
   ]
  },
  {
   "cell_type": "code",
   "execution_count": 204,
   "id": "946b4fd1",
   "metadata": {},
   "outputs": [
    {
     "data": {
      "text/plain": [
       "0    ['beverages', 'unsweetened-beverages']\n",
       "1               ['fats-and-sauces', 'fats']\n",
       "2                                        []\n",
       "3               ['fats-and-sauces', 'fats']\n",
       "4                                        []\n",
       "Name: food_groups_tags, dtype: object"
      ]
     },
     "execution_count": 204,
     "metadata": {},
     "output_type": "execute_result"
    }
   ],
   "source": [
    "df[\"food_groups_tags\"].head()"
   ]
  },
  {
   "cell_type": "code",
   "execution_count": 205,
   "id": "fb1f45d5",
   "metadata": {},
   "outputs": [
    {
     "name": "stdout",
     "output_type": "stream",
     "text": [
      "food_groups_tags count statistics:\n",
      "count    424297.000000\n",
      "mean          1.386906\n",
      "std           0.952213\n",
      "min           0.000000\n",
      "25%           0.000000\n",
      "50%           2.000000\n",
      "75%           2.000000\n",
      "max           3.000000\n",
      "Name: num_food_groups_tags, dtype: float64\n",
      "\n",
      "Number of unique food_groups_tags: 52\n"
     ]
    },
    {
     "data": {
      "image/png": "[encoded data removed]",
      "text/plain": [
       "<Figure size 1000x600 with 1 Axes>"
      ]
     },
     "metadata": {},
     "output_type": "display_data"
    },
    {
     "name": "stdout",
     "output_type": "stream",
     "text": [
      "\n",
      "Saved food_groups_tags counts to ../data/food_groups_tags_counts.json\n"
     ]
    }
   ],
   "source": [
    "tag_analysis(\"food_groups_tags\")"
   ]
  },
  {
   "cell_type": "markdown",
   "id": "60e9ec98",
   "metadata": {},
   "source": [
    "##### `labels_tags`: List of label tags"
   ]
  },
  {
   "cell_type": "code",
   "execution_count": 206,
   "id": "7635849b",
   "metadata": {},
   "outputs": [
    {
     "name": "stdout",
     "output_type": "stream",
     "text": [
      "labels_tags count statistics:\n",
      "count    424297.000000\n",
      "mean          0.549346\n",
      "std           1.443633\n",
      "min           0.000000\n",
      "25%           0.000000\n",
      "50%           0.000000\n",
      "75%           0.000000\n",
      "max          28.000000\n",
      "Name: num_labels_tags, dtype: float64\n",
      "\n",
      "Number of unique labels_tags: 5428\n"
     ]
    },
    {
     "data": {
      "image/png": "[encoded data removed]",
      "text/plain": [
       "<Figure size 1000x600 with 1 Axes>"
      ]
     },
     "metadata": {},
     "output_type": "display_data"
    },
    {
     "name": "stdout",
     "output_type": "stream",
     "text": [
      "\n",
      "Saved labels_tags counts to ../data/labels_tags_counts.json\n"
     ]
    }
   ],
   "source": [
    "tag_analysis(\"labels_tags\")"
   ]
  },
  {
   "cell_type": "markdown",
   "id": "40dead3f",
   "metadata": {},
   "source": [
    "##### `additives_tags`: List of additive tags"
   ]
  },
  {
   "cell_type": "code",
   "execution_count": 207,
   "id": "a3826006",
   "metadata": {},
   "outputs": [
    {
     "name": "stdout",
     "output_type": "stream",
     "text": [
      "additives_tags count statistics:\n",
      "count    424297.000000\n",
      "mean          2.534807\n",
      "std           3.682433\n",
      "min           0.000000\n",
      "25%           0.000000\n",
      "50%           1.000000\n",
      "75%           4.000000\n",
      "max          42.000000\n",
      "Name: num_additives_tags, dtype: float64\n",
      "\n",
      "Number of unique additives_tags: 540\n"
     ]
    },
    {
     "data": {
      "image/png": "[encoded data removed]",
      "text/plain": [
       "<Figure size 1000x600 with 1 Axes>"
      ]
     },
     "metadata": {},
     "output_type": "display_data"
    },
    {
     "name": "stdout",
     "output_type": "stream",
     "text": [
      "\n",
      "Saved additives_tags counts to ../data/additives_tags_counts.json\n"
     ]
    }
   ],
   "source": [
    "tag_analysis(\"additives_tags\")"
   ]
  },
  {
   "cell_type": "markdown",
   "id": "65c6e250",
   "metadata": {},
   "source": [
    "##### `additives_n`: Number of additives"
   ]
  },
  {
   "cell_type": "code",
   "execution_count": 208,
   "id": "4bcfc85a",
   "metadata": {},
   "outputs": [
    {
     "data": {
      "text/plain": [
       "count    424296.000000\n",
       "mean          2.172512\n",
       "std           3.143536\n",
       "min           0.000000\n",
       "25%           0.000000\n",
       "50%           1.000000\n",
       "75%           3.000000\n",
       "max          39.000000\n",
       "Name: additives_n, dtype: float64"
      ]
     },
     "execution_count": 208,
     "metadata": {},
     "output_type": "execute_result"
    }
   ],
   "source": [
    "df[\"additives_n\"].describe()"
   ]
  },
  {
   "cell_type": "code",
   "execution_count": 209,
   "id": "0f058b59",
   "metadata": {},
   "outputs": [
    {
     "name": "stdout",
     "output_type": "stream",
     "text": [
      "Products with no additives: 181255 (42.72%)\n",
      "Products with additives: 243041 (57.28%)\n"
     ]
    },
    {
     "data": {
      "image/png": "[encoded data removed]",
      "text/plain": [
       "<Figure size 640x480 with 1 Axes>"
      ]
     },
     "metadata": {},
     "output_type": "display_data"
    }
   ],
   "source": [
    "# Show percent of product with no additives vs additives (plot)\n",
    "\n",
    "no_additives = (df[\"additives_n\"] == 0).sum()\n",
    "with_additives = (df[\"additives_n\"] > 0).sum()\n",
    "total = no_additives + with_additives\n",
    "print(f\"Products with no additives: {no_additives} ({(no_additives/total)*100:.2f}%)\")\n",
    "print(f\"Products with additives: {with_additives} ({(with_additives/total)*100:.2f}%)\")\n",
    "\n",
    "# Plot\n",
    "labels = ['No Additives', 'With Additives']\n",
    "sizes = [no_additives, with_additives]\n",
    "plt.pie(sizes, labels=labels, autopct='%1.1f%%', startangle=90)\n",
    "plt.axis('equal')\n",
    "plt.show()"
   ]
  },
  {
   "cell_type": "markdown",
   "id": "77d35129",
   "metadata": {},
   "source": [
    "##### `allergens_tags`: List of allergen tags"
   ]
  },
  {
   "cell_type": "code",
   "execution_count": 210,
   "id": "beb0c4fd",
   "metadata": {},
   "outputs": [
    {
     "name": "stdout",
     "output_type": "stream",
     "text": [
      "allergens_tags count statistics:\n",
      "count    424297.000000\n",
      "mean          1.165269\n",
      "std           1.357117\n",
      "min           0.000000\n",
      "25%           0.000000\n",
      "50%           1.000000\n",
      "75%           2.000000\n",
      "max          19.000000\n",
      "Name: num_allergens_tags, dtype: float64\n",
      "\n",
      "Number of unique allergens_tags: 1006\n"
     ]
    },
    {
     "data": {
      "image/png": "[encoded data removed]",
      "text/plain": [
       "<Figure size 1000x600 with 1 Axes>"
      ]
     },
     "metadata": {},
     "output_type": "display_data"
    },
    {
     "name": "stdout",
     "output_type": "stream",
     "text": [
      "\n",
      "Saved allergens_tags counts to ../data/allergens_tags_counts.json\n"
     ]
    }
   ],
   "source": [
    "tag_analysis(\"allergens_tags\")"
   ]
  },
  {
   "cell_type": "markdown",
   "id": "d50597b5",
   "metadata": {},
   "source": [
    "##### `ingredients_ananlysis_tags`: List of ingredients analysis tags"
   ]
  },
  {
   "cell_type": "code",
   "execution_count": 211,
   "id": "6c1f7526",
   "metadata": {},
   "outputs": [
    {
     "name": "stdout",
     "output_type": "stream",
     "text": [
      "ingredients_analysis_tags count statistics:\n",
      "count    424297.000000\n",
      "mean          2.999239\n",
      "std           0.046987\n",
      "min           0.000000\n",
      "25%           3.000000\n",
      "50%           3.000000\n",
      "75%           3.000000\n",
      "max           3.000000\n",
      "Name: num_ingredients_analysis_tags, dtype: float64\n",
      "\n",
      "Number of unique ingredients_analysis_tags: 12\n"
     ]
    },
    {
     "data": {
      "image/png": "[encoded data removed]",
      "text/plain": [
       "<Figure size 1000x600 with 1 Axes>"
      ]
     },
     "metadata": {},
     "output_type": "display_data"
    },
    {
     "name": "stdout",
     "output_type": "stream",
     "text": [
      "\n",
      "Saved ingredients_analysis_tags counts to ../data/ingredients_analysis_tags_counts.json\n"
     ]
    }
   ],
   "source": [
    "tag_analysis(\"ingredients_analysis_tags\")"
   ]
  },
  {
   "cell_type": "markdown",
   "id": "8e8c42d6",
   "metadata": {},
   "source": [
    "##### `ingredients_n`: Number of ingredients"
   ]
  },
  {
   "cell_type": "code",
   "execution_count": 212,
   "id": "1cab31f5",
   "metadata": {},
   "outputs": [
    {
     "name": "stdout",
     "output_type": "stream",
     "text": [
      "count    424296.000000\n",
      "mean         15.921364\n",
      "std          17.049743\n",
      "min           0.000000\n",
      "25%           4.000000\n",
      "50%          11.000000\n",
      "75%          21.000000\n",
      "max         751.000000\n",
      "Name: ingredients_n, dtype: float64\n"
     ]
    },
    {
     "data": {
      "image/png": "[encoded data removed]",
      "text/plain": [
       "<Figure size 1000x600 with 1 Axes>"
      ]
     },
     "metadata": {},
     "output_type": "display_data"
    }
   ],
   "source": [
    "# summary statistics for ingredients_n\n",
    "print(df[\"ingredients_n\"].describe())\n",
    "\n",
    "# plot distribution of ingredients_n\n",
    "plt.figure(figsize=(10, 6))\n",
    "plt.hist(df[\"ingredients_n\"].dropna(), bins=50, color='skyblue', edgecolor='black')\n",
    "plt.title('Distribution of Number of Ingredients')\n",
    "plt.xlabel('Number of Ingredients')\n",
    "plt.ylabel('Number of Products')\n",
    "plt.show()"
   ]
  },
  {
   "cell_type": "code",
   "execution_count": 213,
   "id": "4132fd5d",
   "metadata": {},
   "outputs": [
    {
     "name": "stdout",
     "output_type": "stream",
     "text": [
      "Number of products with 0 ingredients: 114\n"
     ]
    },
    {
     "data": {
      "text/html": [
       "<div>\n",
       "<style scoped>\n",
       "    .dataframe tbody tr th:only-of-type {\n",
       "        vertical-align: middle;\n",
       "    }\n",
       "\n",
       "    .dataframe tbody tr th {\n",
       "        vertical-align: top;\n",
       "    }\n",
       "\n",
       "    .dataframe thead th {\n",
       "        text-align: right;\n",
       "    }\n",
       "</style>\n",
       "<table border=\"1\" class=\"dataframe\">\n",
       "  <thead>\n",
       "    <tr style=\"text-align: right;\">\n",
       "      <th></th>\n",
       "      <th>product</th>\n",
       "      <th>ingredients_n</th>\n",
       "      <th>ingredients</th>\n",
       "    </tr>\n",
       "  </thead>\n",
       "  <tbody>\n",
       "    <tr>\n",
       "      <th>7633</th>\n",
       "      <td>American Wild Shrimp</td>\n",
       "      <td>0.0</td>\n",
       "      <td>[]</td>\n",
       "    </tr>\n",
       "    <tr>\n",
       "      <th>11813</th>\n",
       "      <td>Seasoned Panko Bread Crumbs</td>\n",
       "      <td>0.0</td>\n",
       "      <td>[]</td>\n",
       "    </tr>\n",
       "    <tr>\n",
       "      <th>11814</th>\n",
       "      <td>Italian Panko Breadcrumbs</td>\n",
       "      <td>0.0</td>\n",
       "      <td>[]</td>\n",
       "    </tr>\n",
       "    <tr>\n",
       "      <th>11815</th>\n",
       "      <td>Dry Aged Beef Panko Breadcrumbs</td>\n",
       "      <td>0.0</td>\n",
       "      <td>[]</td>\n",
       "    </tr>\n",
       "    <tr>\n",
       "      <th>11816</th>\n",
       "      <td>Classic Home-Style Meatball</td>\n",
       "      <td>0.0</td>\n",
       "      <td>[]</td>\n",
       "    </tr>\n",
       "  </tbody>\n",
       "</table>\n",
       "</div>"
      ],
      "text/plain": [
       "                               product  ingredients_n ingredients\n",
       "7633              American Wild Shrimp            0.0          []\n",
       "11813      Seasoned Panko Bread Crumbs            0.0          []\n",
       "11814        Italian Panko Breadcrumbs            0.0          []\n",
       "11815  Dry Aged Beef Panko Breadcrumbs            0.0          []\n",
       "11816      Classic Home-Style Meatball            0.0          []"
      ]
     },
     "execution_count": 213,
     "metadata": {},
     "output_type": "execute_result"
    }
   ],
   "source": [
    "# 0 ingredients\n",
    "zero_ingredients = df[df[\"ingredients_n\"] == 0]\n",
    "print(f\"Number of products with 0 ingredients: {len(zero_ingredients)}\")\n",
    "zero_ingredients[[\"product\", \"ingredients_n\", \"ingredients\"]].head()"
   ]
  },
  {
   "cell_type": "code",
   "execution_count": 214,
   "id": "4eee2d69",
   "metadata": {},
   "outputs": [
    {
     "name": "stdout",
     "output_type": "stream",
     "text": [
      "Number of products with mismatched ingredients_n and actual count: 260563 (61.41%)\n"
     ]
    },
    {
     "data": {
      "text/html": [
       "<div>\n",
       "<style scoped>\n",
       "    .dataframe tbody tr th:only-of-type {\n",
       "        vertical-align: middle;\n",
       "    }\n",
       "\n",
       "    .dataframe tbody tr th {\n",
       "        vertical-align: top;\n",
       "    }\n",
       "\n",
       "    .dataframe thead th {\n",
       "        text-align: right;\n",
       "    }\n",
       "</style>\n",
       "<table border=\"1\" class=\"dataframe\">\n",
       "  <thead>\n",
       "    <tr style=\"text-align: right;\">\n",
       "      <th></th>\n",
       "      <th>product</th>\n",
       "      <th>ingredients_n</th>\n",
       "      <th>ingredients_count</th>\n",
       "      <th>ingredients</th>\n",
       "    </tr>\n",
       "  </thead>\n",
       "  <tbody>\n",
       "    <tr>\n",
       "      <th>2</th>\n",
       "      <td>Canola Harvest® Original Vegetable Oil Spread Tub</td>\n",
       "      <td>17.0</td>\n",
       "      <td>15</td>\n",
       "      <td>['canola oil', 'water', 'palm oil', 'palm kern...</td>\n",
       "    </tr>\n",
       "    <tr>\n",
       "      <th>3</th>\n",
       "      <td>Canola harvest, buttery spread, with flaxseed oil</td>\n",
       "      <td>20.0</td>\n",
       "      <td>17</td>\n",
       "      <td>['canola oil', 'water', 'palm oil', 'flax oil'...</td>\n",
       "    </tr>\n",
       "    <tr>\n",
       "      <th>5</th>\n",
       "      <td>Bakers Best, White Bread</td>\n",
       "      <td>33.0</td>\n",
       "      <td>20</td>\n",
       "      <td>['flour', 'water', 'sugar', 'yeast', 'ethoxyla...</td>\n",
       "    </tr>\n",
       "    <tr>\n",
       "      <th>6</th>\n",
       "      <td>Bakers Best, Rye Bread</td>\n",
       "      <td>18.0</td>\n",
       "      <td>11</td>\n",
       "      <td>['flour', 'water', 'yeast', 'sugar', 'soy oil'...</td>\n",
       "    </tr>\n",
       "    <tr>\n",
       "      <th>7</th>\n",
       "      <td>Piasten, Chocolate Assortment</td>\n",
       "      <td>31.0</td>\n",
       "      <td>26</td>\n",
       "      <td>['sugar', 'wheat starch', 'glucose syrup', 'so...</td>\n",
       "    </tr>\n",
       "  </tbody>\n",
       "</table>\n",
       "</div>"
      ],
      "text/plain": [
       "                                             product  ingredients_n  \\\n",
       "2  Canola Harvest® Original Vegetable Oil Spread Tub           17.0   \n",
       "3  Canola harvest, buttery spread, with flaxseed oil           20.0   \n",
       "5                           Bakers Best, White Bread           33.0   \n",
       "6                             Bakers Best, Rye Bread           18.0   \n",
       "7                      Piasten, Chocolate Assortment           31.0   \n",
       "\n",
       "   ingredients_count                                        ingredients  \n",
       "2                 15  ['canola oil', 'water', 'palm oil', 'palm kern...  \n",
       "3                 17  ['canola oil', 'water', 'palm oil', 'flax oil'...  \n",
       "5                 20  ['flour', 'water', 'sugar', 'yeast', 'ethoxyla...  \n",
       "6                 11  ['flour', 'water', 'yeast', 'sugar', 'soy oil'...  \n",
       "7                 26  ['sugar', 'wheat starch', 'glucose syrup', 'so...  "
      ]
     },
     "execution_count": 214,
     "metadata": {},
     "output_type": "execute_result"
    }
   ],
   "source": [
    "# check if ingredients_n correlates matches number of ingredients\n",
    "df[\"ingredients_count\"] =  df[\"ingredients\"].apply(lambda x: len(ast.literal_eval(x)) if pd.notnull(x) else 0)\n",
    "mismatch_ingredient_count = df[df[\"ingredients_n\"] !=  df[\"ingredients_count\"]]\n",
    "pct_mismatch = (len(mismatch_ingredient_count) / len(df)) * 100\n",
    "print(f\"Number of products with mismatched ingredients_n and actual count: {len(mismatch_ingredient_count)} ({pct_mismatch:.2f}%)\")\n",
    "mismatch_ingredient_count[[\"product\", \"ingredients_n\", \"ingredients_count\", \"ingredients\"]].head()"
   ]
  },
  {
   "cell_type": "markdown",
   "id": "a36fc2ae",
   "metadata": {},
   "source": [
    "##### `ingredients_from_palm_oil_n`: Number of ingredients from palm oil"
   ]
  },
  {
   "cell_type": "code",
   "execution_count": 215,
   "id": "b6b8ff24",
   "metadata": {},
   "outputs": [
    {
     "name": "stdout",
     "output_type": "stream",
     "text": [
      "count    338465.000000\n",
      "mean          0.001078\n",
      "std           0.033446\n",
      "min           0.000000\n",
      "25%           0.000000\n",
      "50%           0.000000\n",
      "75%           0.000000\n",
      "max           2.000000\n",
      "Name: ingredients_from_palm_oil_n, dtype: float64\n"
     ]
    },
    {
     "data": {
      "image/png": "[encoded data removed]",
      "text/plain": [
       "<Figure size 1000x600 with 1 Axes>"
      ]
     },
     "metadata": {},
     "output_type": "display_data"
    }
   ],
   "source": [
    "# summary statistics for ingredients_from_palm_oil_n\n",
    "print(df[\"ingredients_from_palm_oil_n\"].describe())\n",
    "\n",
    "# plot distribution of ingredients_from_palm_oil_n\n",
    "plt.figure(figsize=(10, 6))\n",
    "plt.hist(df[\"ingredients_from_palm_oil_n\"].dropna(), bins=50, color='skyblue', edgecolor='black')\n",
    "plt.title('Distribution of Ingredients from Palm Oil')\n",
    "plt.xlabel('Number of Ingredients from Palm Oil')\n",
    "plt.ylabel('Number of Products')\n",
    "plt.show()"
   ]
  },
  {
   "cell_type": "code",
   "execution_count": 216,
   "id": "2ecea166",
   "metadata": {},
   "outputs": [
    {
     "name": "stdout",
     "output_type": "stream",
     "text": [
      "Products with palm oil ingredients: 358 (0.11%)\n",
      "Products without palm oil ingredients: 338107 (99.89%)\n"
     ]
    },
    {
     "data": {
      "image/png": "[encoded data removed]",
      "text/plain": [
       "<Figure size 640x480 with 1 Axes>"
      ]
     },
     "metadata": {},
     "output_type": "display_data"
    }
   ],
   "source": [
    "# Has palm oil ingredients\n",
    "has_palm_oil = (df[\"ingredients_from_palm_oil_n\"] > 0).sum()\n",
    "no_palm_oil = (df[\"ingredients_from_palm_oil_n\"] == 0).sum()\n",
    "total = has_palm_oil + no_palm_oil\n",
    "print(f\"Products with palm oil ingredients: {has_palm_oil} ({(has_palm_oil/total)*100:.2f}%)\")\n",
    "print(f\"Products without palm oil ingredients: {no_palm_oil} ({(no_palm_oil/total)*100:.2f}%)\")\n",
    "\n",
    "# Plot\n",
    "labels = ['With Palm Oil Ingredients', 'Without Palm Oil Ingredients']\n",
    "sizes = [has_palm_oil, no_palm_oil]\n",
    "plt.pie(sizes, labels=labels, autopct='%1.1f%%', startangle=90)\n",
    "plt.axis('equal')\n",
    "plt.show()"
   ]
  },
  {
   "cell_type": "markdown",
   "id": "3a9fd0ed",
   "metadata": {},
   "source": [
    "##### `ingredients`: List of ingredients"
   ]
  },
  {
   "cell_type": "code",
   "execution_count": 217,
   "id": "73ab4f32",
   "metadata": {},
   "outputs": [
    {
     "data": {
      "text/plain": [
       "0    ['andropogon citratus', 'uva ursi', 'hibiscus ...\n",
       "1         ['canola oil no additives', 'preservatives']\n",
       "2    ['canola oil', 'water', 'palm oil', 'palm kern...\n",
       "3    ['canola oil', 'water', 'palm oil', 'flax oil'...\n",
       "4    ['rye flour', 'water', 'wheat', 'flour', 'malt...\n",
       "Name: ingredients, dtype: object"
      ]
     },
     "execution_count": 217,
     "metadata": {},
     "output_type": "execute_result"
    }
   ],
   "source": [
    "df[\"ingredients\"].head()"
   ]
  },
  {
   "cell_type": "markdown",
   "id": "eeb631f9",
   "metadata": {},
   "source": [
    "##### `completeness`: Completeness of product data (%)"
   ]
  },
  {
   "cell_type": "code",
   "execution_count": 218,
   "id": "b503c270",
   "metadata": {},
   "outputs": [
    {
     "data": {
      "text/plain": [
       "count    424297.000000\n",
       "mean          0.557321\n",
       "std           0.132319\n",
       "min           0.200000\n",
       "25%           0.475000\n",
       "50%           0.550000\n",
       "75%           0.600000\n",
       "max           1.100000\n",
       "Name: completeness, dtype: float64"
      ]
     },
     "execution_count": 218,
     "metadata": {},
     "output_type": "execute_result"
    }
   ],
   "source": [
    "df[\"completeness\"].describe()"
   ]
  },
  {
   "cell_type": "code",
   "execution_count": 219,
   "id": "bd2296f7",
   "metadata": {},
   "outputs": [
    {
     "data": {
      "image/png": "[encoded data removed]",
      "text/plain": [
       "<Figure size 1000x600 with 1 Axes>"
      ]
     },
     "metadata": {},
     "output_type": "display_data"
    }
   ],
   "source": [
    "# Histogram\n",
    "plt.figure(figsize=(10, 6))\n",
    "plt.hist(df[\"completeness\"].dropna(), bins=50, color='skyblue', edgecolor='black')\n",
    "plt.title('Distribution of Completeness')\n",
    "plt.xlabel('Completeness')\n",
    "plt.ylabel('Number of Products')\n",
    "plt.show()"
   ]
  },
  {
   "cell_type": "markdown",
   "id": "14ca0b31",
   "metadata": {},
   "source": [
    "##### `energy`: Energy per 100g"
   ]
  },
  {
   "cell_type": "code",
   "execution_count": 220,
   "id": "ea6e72a2",
   "metadata": {},
   "outputs": [
    {
     "name": "stdout",
     "output_type": "stream",
     "text": [
      "count    4.203170e+05\n",
      "mean     1.467027e+14\n",
      "std      9.511006e+16\n",
      "min      0.000000e+00\n",
      "25%      3.540000e+02\n",
      "50%      1.100000e+03\n",
      "75%      1.790000e+03\n",
      "max      6.166162e+19\n",
      "Name: energy, dtype: float64\n"
     ]
    },
    {
     "data": {
      "image/png": "[encoded data removed]",
      "text/plain": [
       "<Figure size 800x400 with 1 Axes>"
      ]
     },
     "metadata": {},
     "output_type": "display_data"
    }
   ],
   "source": [
    "# Summary statistics\n",
    "print(df[\"energy\"].describe())\n",
    "\n",
    "# Boxplot\n",
    "plt.figure(figsize=(8,4))\n",
    "plt.boxplot(df[\"energy\"].dropna(), vert=False)\n",
    "plt.title(\"Boxplot of energy\")\n",
    "plt.xlabel(\"energy\")\n",
    "plt.show()\n"
   ]
  },
  {
   "cell_type": "code",
   "execution_count": 221,
   "id": "456c8694",
   "metadata": {},
   "outputs": [
    {
     "data": {
      "text/html": [
       "<div>\n",
       "<style scoped>\n",
       "    .dataframe tbody tr th:only-of-type {\n",
       "        vertical-align: middle;\n",
       "    }\n",
       "\n",
       "    .dataframe tbody tr th {\n",
       "        vertical-align: top;\n",
       "    }\n",
       "\n",
       "    .dataframe thead th {\n",
       "        text-align: right;\n",
       "    }\n",
       "</style>\n",
       "<table border=\"1\" class=\"dataframe\">\n",
       "  <thead>\n",
       "    <tr style=\"text-align: right;\">\n",
       "      <th></th>\n",
       "      <th>product</th>\n",
       "      <th>energy</th>\n",
       "    </tr>\n",
       "  </thead>\n",
       "  <tbody>\n",
       "    <tr>\n",
       "      <th>329189</th>\n",
       "      <td>Dorito Nacho Cheese</td>\n",
       "      <td>6.166162e+19</td>\n",
       "    </tr>\n",
       "  </tbody>\n",
       "</table>\n",
       "</div>"
      ],
      "text/plain": [
       "                    product        energy\n",
       "329189  Dorito Nacho Cheese  6.166162e+19"
      ]
     },
     "execution_count": 221,
     "metadata": {},
     "output_type": "execute_result"
    }
   ],
   "source": [
    "df[df[\"energy\"] > 500000][[\"product\", \"energy\"]]"
   ]
  },
  {
   "cell_type": "code",
   "execution_count": 222,
   "id": "53330322",
   "metadata": {},
   "outputs": [
    {
     "data": {
      "image/png": "[encoded data removed]",
      "text/plain": [
       "<Figure size 800x400 with 1 Axes>"
      ]
     },
     "metadata": {},
     "output_type": "display_data"
    }
   ],
   "source": [
    "# Boxplot (w/out outlier)\n",
    "plt.figure(figsize=(8,4))\n",
    "plt.boxplot(df[df[\"energy\"]<500000][\"energy\"].dropna(), vert=False)\n",
    "plt.title(\"Boxplot of energy\")\n",
    "plt.xlabel(\"energy\")\n",
    "plt.show()"
   ]
  },
  {
   "cell_type": "markdown",
   "id": "49214812",
   "metadata": {},
   "source": [
    "##### `sugars`: Sugar per 100g"
   ]
  },
  {
   "cell_type": "code",
   "execution_count": 223,
   "id": "af747670",
   "metadata": {},
   "outputs": [
    {
     "name": "stdout",
     "output_type": "stream",
     "text": [
      "count    4.112610e+05\n",
      "mean     2.431564e+06\n",
      "std      1.559341e+09\n",
      "min     -1.450000e+00\n",
      "25%      1.180000e+00\n",
      "50%      5.040000e+00\n",
      "75%      2.267000e+01\n",
      "max      1.000000e+12\n",
      "Name: sugars, dtype: float64\n"
     ]
    },
    {
     "data": {
      "image/png": "[encoded data removed]",
      "text/plain": [
       "<Figure size 800x400 with 1 Axes>"
      ]
     },
     "metadata": {},
     "output_type": "display_data"
    }
   ],
   "source": [
    "# Summary statistics\n",
    "print(df[\"sugars\"].describe())\n",
    "\n",
    "# Boxplot\n",
    "plt.figure(figsize=(8,4))\n",
    "plt.boxplot(df[\"sugars\"].dropna(), vert=False)\n",
    "plt.title(\"Boxplot of Sugars\")\n",
    "plt.xlabel(\"Sugars\")\n",
    "plt.show()\n"
   ]
  },
  {
   "cell_type": "code",
   "execution_count": 224,
   "id": "bec78ef4",
   "metadata": {},
   "outputs": [
    {
     "data": {
      "text/html": [
       "<div>\n",
       "<style scoped>\n",
       "    .dataframe tbody tr th:only-of-type {\n",
       "        vertical-align: middle;\n",
       "    }\n",
       "\n",
       "    .dataframe tbody tr th {\n",
       "        vertical-align: top;\n",
       "    }\n",
       "\n",
       "    .dataframe thead th {\n",
       "        text-align: right;\n",
       "    }\n",
       "</style>\n",
       "<table border=\"1\" class=\"dataframe\">\n",
       "  <thead>\n",
       "    <tr style=\"text-align: right;\">\n",
       "      <th></th>\n",
       "      <th>product</th>\n",
       "      <th>sugars</th>\n",
       "    </tr>\n",
       "  </thead>\n",
       "  <tbody>\n",
       "    <tr>\n",
       "      <th>329189</th>\n",
       "      <td>Dorito Nacho Cheese</td>\n",
       "      <td>1.000000e+12</td>\n",
       "    </tr>\n",
       "  </tbody>\n",
       "</table>\n",
       "</div>"
      ],
      "text/plain": [
       "                    product        sugars\n",
       "329189  Dorito Nacho Cheese  1.000000e+12"
      ]
     },
     "execution_count": 224,
     "metadata": {},
     "output_type": "execute_result"
    }
   ],
   "source": [
    "df[df[\"sugars\"] > 500000][[\"product\", \"sugars\"]]"
   ]
  },
  {
   "cell_type": "code",
   "execution_count": 225,
   "id": "487d4cba",
   "metadata": {},
   "outputs": [
    {
     "data": {
      "image/png": "[encoded data removed]",
      "text/plain": [
       "<Figure size 800x400 with 1 Axes>"
      ]
     },
     "metadata": {},
     "output_type": "display_data"
    }
   ],
   "source": [
    "# Boxplot\n",
    "plt.figure(figsize=(8,4))\n",
    "plt.boxplot(df[df[\"sugars\"]<500000][\"sugars\"].dropna(), vert=False)\n",
    "plt.title(\"Boxplot of Sugars\")\n",
    "plt.xlabel(\"Sugars\")\n",
    "plt.show()\n"
   ]
  },
  {
   "cell_type": "markdown",
   "id": "92750ae0",
   "metadata": {},
   "source": [
    "##### `added_sugar`: Added sugar per 100g"
   ]
  },
  {
   "cell_type": "code",
   "execution_count": 226,
   "id": "ab482b47",
   "metadata": {},
   "outputs": [
    {
     "name": "stdout",
     "output_type": "stream",
     "text": [
      "count    24834.000000\n",
      "mean        12.756229\n",
      "std         98.991081\n",
      "min          0.000000\n",
      "25%          0.000000\n",
      "50%          0.000000\n",
      "75%         11.200000\n",
      "max       9000.000000\n",
      "Name: added_sugars, dtype: float64\n"
     ]
    },
    {
     "data": {
      "image/png": "[encoded data removed]",
      "text/plain": [
       "<Figure size 800x400 with 1 Axes>"
      ]
     },
     "metadata": {},
     "output_type": "display_data"
    }
   ],
   "source": [
    "# Summary statistics\n",
    "print(df[\"added_sugars\"].describe())\n",
    "\n",
    "# Boxplot\n",
    "plt.figure(figsize=(8,4))\n",
    "plt.boxplot(df[\"added_sugars\"].dropna(), vert=False)\n",
    "plt.title(\"Boxplot of Added Sugars\")\n",
    "plt.xlabel(\"Added Sugars (g)\")\n",
    "plt.show()\n"
   ]
  },
  {
   "cell_type": "code",
   "execution_count": 227,
   "id": "de577a89",
   "metadata": {},
   "outputs": [
    {
     "data": {
      "text/html": [
       "<div>\n",
       "<style scoped>\n",
       "    .dataframe tbody tr th:only-of-type {\n",
       "        vertical-align: middle;\n",
       "    }\n",
       "\n",
       "    .dataframe tbody tr th {\n",
       "        vertical-align: top;\n",
       "    }\n",
       "\n",
       "    .dataframe thead th {\n",
       "        text-align: right;\n",
       "    }\n",
       "</style>\n",
       "<table border=\"1\" class=\"dataframe\">\n",
       "  <thead>\n",
       "    <tr style=\"text-align: right;\">\n",
       "      <th></th>\n",
       "      <th>product</th>\n",
       "      <th>added_sugars</th>\n",
       "    </tr>\n",
       "  </thead>\n",
       "  <tbody>\n",
       "    <tr>\n",
       "      <th>359308</th>\n",
       "      <td>Matcha Latte Vanilla</td>\n",
       "      <td>9000.0</td>\n",
       "    </tr>\n",
       "  </tbody>\n",
       "</table>\n",
       "</div>"
      ],
      "text/plain": [
       "                     product  added_sugars\n",
       "359308  Matcha Latte Vanilla        9000.0"
      ]
     },
     "execution_count": 227,
     "metadata": {},
     "output_type": "execute_result"
    }
   ],
   "source": [
    "df[df[\"added_sugars\"] > 8000][[\"product\", \"added_sugars\"]]"
   ]
  },
  {
   "cell_type": "markdown",
   "id": "8bdae750",
   "metadata": {},
   "source": [
    "##### `carbohydrates`: Carbohydrates per 100g"
   ]
  },
  {
   "cell_type": "code",
   "execution_count": 228,
   "id": "0bc2c98e",
   "metadata": {},
   "outputs": [
    {
     "name": "stdout",
     "output_type": "stream",
     "text": [
      "count    4.194930e+05\n",
      "mean     1.183488e+25\n",
      "std      7.665248e+27\n",
      "min      0.000000e+00\n",
      "25%      6.250000e+00\n",
      "50%      2.240000e+01\n",
      "75%      5.850000e+01\n",
      "max      4.964649e+30\n",
      "Name: carbohydrates, dtype: float64\n"
     ]
    },
    {
     "data": {
      "image/png": "[encoded data removed]",
      "text/plain": [
       "<Figure size 800x400 with 1 Axes>"
      ]
     },
     "metadata": {},
     "output_type": "display_data"
    }
   ],
   "source": [
    "# Summary statistics\n",
    "print(df[\"carbohydrates\"].describe())\n",
    "\n",
    "# Boxplot\n",
    "plt.figure(figsize=(8,4))\n",
    "plt.boxplot(df[\"carbohydrates\"].dropna(), vert=False)\n",
    "plt.title(\"Boxplot of carbohydrates\")\n",
    "plt.xlabel(\"carbohydrates\")\n",
    "plt.show()"
   ]
  },
  {
   "cell_type": "code",
   "execution_count": 229,
   "id": "ffbed9a6",
   "metadata": {},
   "outputs": [
    {
     "data": {
      "text/html": [
       "<div>\n",
       "<style scoped>\n",
       "    .dataframe tbody tr th:only-of-type {\n",
       "        vertical-align: middle;\n",
       "    }\n",
       "\n",
       "    .dataframe tbody tr th {\n",
       "        vertical-align: top;\n",
       "    }\n",
       "\n",
       "    .dataframe thead th {\n",
       "        text-align: right;\n",
       "    }\n",
       "</style>\n",
       "<table border=\"1\" class=\"dataframe\">\n",
       "  <thead>\n",
       "    <tr style=\"text-align: right;\">\n",
       "      <th></th>\n",
       "      <th>product</th>\n",
       "      <th>carbohydrates</th>\n",
       "    </tr>\n",
       "  </thead>\n",
       "  <tbody>\n",
       "    <tr>\n",
       "      <th>329189</th>\n",
       "      <td>Dorito Nacho Cheese</td>\n",
       "      <td>4.964649e+30</td>\n",
       "    </tr>\n",
       "    <tr>\n",
       "      <th>423716</th>\n",
       "      <td>sirop de zahar</td>\n",
       "      <td>7.785800e+04</td>\n",
       "    </tr>\n",
       "  </tbody>\n",
       "</table>\n",
       "</div>"
      ],
      "text/plain": [
       "                    product  carbohydrates\n",
       "329189  Dorito Nacho Cheese   4.964649e+30\n",
       "423716       sirop de zahar   7.785800e+04"
      ]
     },
     "execution_count": 229,
     "metadata": {},
     "output_type": "execute_result"
    }
   ],
   "source": [
    "df[df[\"carbohydrates\"] > 70000][[\"product\", \"carbohydrates\"]]"
   ]
  },
  {
   "cell_type": "code",
   "execution_count": 230,
   "id": "bfe7173b",
   "metadata": {},
   "outputs": [
    {
     "name": "stdout",
     "output_type": "stream",
     "text": [
      "count    4.194930e+05\n",
      "mean     1.183488e+25\n",
      "std      7.665248e+27\n",
      "min      0.000000e+00\n",
      "25%      6.250000e+00\n",
      "50%      2.240000e+01\n",
      "75%      5.850000e+01\n",
      "max      4.964649e+30\n",
      "Name: carbohydrates, dtype: float64\n"
     ]
    },
    {
     "data": {
      "image/png": "[encoded data removed]",
      "text/plain": [
       "<Figure size 800x400 with 1 Axes>"
      ]
     },
     "metadata": {},
     "output_type": "display_data"
    }
   ],
   "source": [
    "# Summary statistics\n",
    "print(df[\"carbohydrates\"].describe())\n",
    "\n",
    "# Boxplot\n",
    "plt.figure(figsize=(8,4))\n",
    "plt.boxplot(df[df[\"carbohydrates\"]<70000][\"carbohydrates\"].dropna(), vert=False)\n",
    "plt.title(\"Boxplot of carbohydrates\")\n",
    "plt.xlabel(\"carbohydrates\")\n",
    "plt.show()"
   ]
  },
  {
   "cell_type": "markdown",
   "id": "bb51c696",
   "metadata": {},
   "source": [
    "##### `salt`: Salt per 100g"
   ]
  },
  {
   "cell_type": "code",
   "execution_count": 231,
   "id": "ff972be2",
   "metadata": {},
   "outputs": [
    {
     "name": "stdout",
     "output_type": "stream",
     "text": [
      "count    420181.000000\n",
      "mean          3.856932\n",
      "std         601.940268\n",
      "min           0.000000\n",
      "25%           0.025900\n",
      "50%           0.450000\n",
      "75%           1.250000\n",
      "max      355942.500000\n",
      "Name: salt, dtype: float64\n"
     ]
    },
    {
     "data": {
      "image/png": "[encoded data removed]",
      "text/plain": [
       "<Figure size 800x400 with 1 Axes>"
      ]
     },
     "metadata": {},
     "output_type": "display_data"
    }
   ],
   "source": [
    "# Summary statistics\n",
    "print(df[\"salt\"].describe())\n",
    "\n",
    "# Boxplot\n",
    "plt.figure(figsize=(8,4))\n",
    "plt.boxplot(df[\"salt\"].dropna(), vert=False)\n",
    "plt.title(\"Boxplot of salt\")\n",
    "plt.xlabel(\"salt\")\n",
    "plt.show()"
   ]
  },
  {
   "cell_type": "code",
   "execution_count": 232,
   "id": "ec3c6a00",
   "metadata": {},
   "outputs": [
    {
     "data": {
      "text/html": [
       "<div>\n",
       "<style scoped>\n",
       "    .dataframe tbody tr th:only-of-type {\n",
       "        vertical-align: middle;\n",
       "    }\n",
       "\n",
       "    .dataframe tbody tr th {\n",
       "        vertical-align: top;\n",
       "    }\n",
       "\n",
       "    .dataframe thead th {\n",
       "        text-align: right;\n",
       "    }\n",
       "</style>\n",
       "<table border=\"1\" class=\"dataframe\">\n",
       "  <thead>\n",
       "    <tr style=\"text-align: right;\">\n",
       "      <th></th>\n",
       "      <th>brands</th>\n",
       "      <th>product</th>\n",
       "      <th>salt</th>\n",
       "    </tr>\n",
       "  </thead>\n",
       "  <tbody>\n",
       "    <tr>\n",
       "      <th>116</th>\n",
       "      <td>Olde Thompson</td>\n",
       "      <td>Mediterranean Sea Salt</td>\n",
       "      <td>104167.5</td>\n",
       "    </tr>\n",
       "    <tr>\n",
       "      <th>1101</th>\n",
       "      <td>Kroger</td>\n",
       "      <td>Celery Salt</td>\n",
       "      <td>82142.5</td>\n",
       "    </tr>\n",
       "    <tr>\n",
       "      <th>1103</th>\n",
       "      <td>Kroger</td>\n",
       "      <td>Garlic Salt</td>\n",
       "      <td>59375.0</td>\n",
       "    </tr>\n",
       "    <tr>\n",
       "      <th>1210</th>\n",
       "      <td>Private Selection</td>\n",
       "      <td>Garlic &amp; Sea Salt Grinder</td>\n",
       "      <td>47917.5</td>\n",
       "    </tr>\n",
       "    <tr>\n",
       "      <th>334583</th>\n",
       "      <td>Balaji</td>\n",
       "      <td>wheels</td>\n",
       "      <td>355942.5</td>\n",
       "    </tr>\n",
       "  </tbody>\n",
       "</table>\n",
       "</div>"
      ],
      "text/plain": [
       "                   brands                    product      salt\n",
       "116         Olde Thompson     Mediterranean Sea Salt  104167.5\n",
       "1101               Kroger                Celery Salt   82142.5\n",
       "1103               Kroger                Garlic Salt   59375.0\n",
       "1210    Private Selection  Garlic & Sea Salt Grinder   47917.5\n",
       "334583             Balaji                     wheels  355942.5"
      ]
     },
     "execution_count": 232,
     "metadata": {},
     "output_type": "execute_result"
    }
   ],
   "source": [
    "df[df[\"salt\"] > 40000][[\"brands\", \"product\", \"salt\"]]"
   ]
  },
  {
   "cell_type": "code",
   "execution_count": 233,
   "id": "ccf1b4cd",
   "metadata": {},
   "outputs": [
    {
     "data": {
      "image/png": "[encoded data removed]",
      "text/plain": [
       "<Figure size 800x400 with 1 Axes>"
      ]
     },
     "metadata": {},
     "output_type": "display_data"
    }
   ],
   "source": [
    "# Boxplot\n",
    "plt.figure(figsize=(8,4))\n",
    "plt.boxplot(df[df[\"salt\"]<40000][\"salt\"].dropna(), vert=False)\n",
    "plt.title(\"Boxplot of salt\")\n",
    "plt.xlabel(\"salt\")\n",
    "plt.show()"
   ]
  },
  {
   "cell_type": "markdown",
   "id": "633b1991",
   "metadata": {},
   "source": [
    "##### `fat`: Fat per 100"
   ]
  },
  {
   "cell_type": "code",
   "execution_count": 234,
   "id": "6948e7c3",
   "metadata": {},
   "outputs": [
    {
     "name": "stdout",
     "output_type": "stream",
     "text": [
      "count    4.202950e+05\n",
      "mean     1.105549e+20\n",
      "std      7.167291e+22\n",
      "min      0.000000e+00\n",
      "25%      0.000000e+00\n",
      "50%      5.900000e+00\n",
      "75%      2.100000e+01\n",
      "max      4.646567e+25\n",
      "Name: fat, dtype: float64\n"
     ]
    },
    {
     "data": {
      "image/png": "[encoded data removed]",
      "text/plain": [
       "<Figure size 800x400 with 1 Axes>"
      ]
     },
     "metadata": {},
     "output_type": "display_data"
    }
   ],
   "source": [
    "# Summary statistics\n",
    "print(df[\"fat\"].describe())\n",
    "\n",
    "# Boxplot\n",
    "plt.figure(figsize=(8,4))\n",
    "plt.boxplot(df[\"fat\"].dropna(), vert=False)\n",
    "plt.title(\"Boxplot of fat\")\n",
    "plt.xlabel(\"fat\")\n",
    "plt.show()"
   ]
  },
  {
   "cell_type": "code",
   "execution_count": 235,
   "id": "26d62d4a",
   "metadata": {},
   "outputs": [
    {
     "data": {
      "text/html": [
       "<div>\n",
       "<style scoped>\n",
       "    .dataframe tbody tr th:only-of-type {\n",
       "        vertical-align: middle;\n",
       "    }\n",
       "\n",
       "    .dataframe tbody tr th {\n",
       "        vertical-align: top;\n",
       "    }\n",
       "\n",
       "    .dataframe thead th {\n",
       "        text-align: right;\n",
       "    }\n",
       "</style>\n",
       "<table border=\"1\" class=\"dataframe\">\n",
       "  <thead>\n",
       "    <tr style=\"text-align: right;\">\n",
       "      <th></th>\n",
       "      <th>brands</th>\n",
       "      <th>product</th>\n",
       "      <th>fat</th>\n",
       "    </tr>\n",
       "  </thead>\n",
       "  <tbody>\n",
       "    <tr>\n",
       "      <th>329189</th>\n",
       "      <td>Doritos</td>\n",
       "      <td>Dorito Nacho Cheese</td>\n",
       "      <td>4.646567e+25</td>\n",
       "    </tr>\n",
       "    <tr>\n",
       "      <th>354745</th>\n",
       "      <td>Faber-Castel</td>\n",
       "      <td>Faber-Castel knetradiergummi</td>\n",
       "      <td>6.784540e+05</td>\n",
       "    </tr>\n",
       "  </tbody>\n",
       "</table>\n",
       "</div>"
      ],
      "text/plain": [
       "              brands                       product           fat\n",
       "329189       Doritos           Dorito Nacho Cheese  4.646567e+25\n",
       "354745  Faber-Castel  Faber-Castel knetradiergummi  6.784540e+05"
      ]
     },
     "execution_count": 235,
     "metadata": {},
     "output_type": "execute_result"
    }
   ],
   "source": [
    "df[df[\"fat\"] > 100000][[\"brands\", \"product\", \"fat\"]]"
   ]
  },
  {
   "cell_type": "code",
   "execution_count": 236,
   "id": "e7a221a6",
   "metadata": {},
   "outputs": [
    {
     "data": {
      "image/png": "[encoded data removed]",
      "text/plain": [
       "<Figure size 800x400 with 1 Axes>"
      ]
     },
     "metadata": {},
     "output_type": "display_data"
    }
   ],
   "source": [
    "# Boxplot\n",
    "plt.figure(figsize=(8,4))\n",
    "plt.boxplot(df[df[\"fat\"] < 100000][\"fat\"].dropna(), vert=False)\n",
    "plt.title(\"Boxplot of fat\")\n",
    "plt.xlabel(\"fat\")\n",
    "plt.show()"
   ]
  },
  {
   "cell_type": "markdown",
   "id": "33d7da6a",
   "metadata": {},
   "source": [
    "##### `trans_fat`: Trans fat per 100g"
   ]
  },
  {
   "cell_type": "code",
   "execution_count": 237,
   "id": "c3280776",
   "metadata": {},
   "outputs": [
    {
     "name": "stdout",
     "output_type": "stream",
     "text": [
      "count    250302.000000\n",
      "mean          0.058966\n",
      "std           1.370468\n",
      "min           0.000000\n",
      "25%           0.000000\n",
      "50%           0.000000\n",
      "75%           0.000000\n",
      "max         153.000000\n",
      "Name: trans_fat, dtype: float64\n"
     ]
    },
    {
     "data": {
      "image/png": "[encoded data removed]",
      "text/plain": [
       "<Figure size 800x400 with 1 Axes>"
      ]
     },
     "metadata": {},
     "output_type": "display_data"
    }
   ],
   "source": [
    "# Summary statistics\n",
    "print(df[\"trans_fat\"].describe())\n",
    "\n",
    "# Boxplot\n",
    "plt.figure(figsize=(8,4))\n",
    "plt.boxplot(df[\"trans_fat\"].dropna(), vert=False)\n",
    "plt.title(\"Boxplot of trans_fat\")\n",
    "plt.xlabel(\"trans_fat\")\n",
    "plt.show()"
   ]
  },
  {
   "cell_type": "markdown",
   "id": "48a56528",
   "metadata": {},
   "source": [
    "##### **`nutriscore_grade`**: Nutritional score grade (a,b,c,d,e)"
   ]
  },
  {
   "cell_type": "code",
   "execution_count": 238,
   "id": "f2975b15",
   "metadata": {},
   "outputs": [
    {
     "data": {
      "image/png": "[encoded data removed]",
      "text/plain": [
       "<Figure size 640x480 with 1 Axes>"
      ]
     },
     "metadata": {},
     "output_type": "display_data"
    },
    {
     "name": "stdout",
     "output_type": "stream",
     "text": [
      "{'a': 62500, 'b': 47033, 'c': 81611, 'd': 98591, 'e': 134562}\n"
     ]
    },
    {
     "data": {
      "text/html": [
       "<div>\n",
       "<style scoped>\n",
       "    .dataframe tbody tr th:only-of-type {\n",
       "        vertical-align: middle;\n",
       "    }\n",
       "\n",
       "    .dataframe tbody tr th {\n",
       "        vertical-align: top;\n",
       "    }\n",
       "\n",
       "    .dataframe thead th {\n",
       "        text-align: right;\n",
       "    }\n",
       "</style>\n",
       "<table border=\"1\" class=\"dataframe\">\n",
       "  <thead>\n",
       "    <tr style=\"text-align: right;\">\n",
       "      <th></th>\n",
       "      <th>Count</th>\n",
       "      <th>Percentage (%)</th>\n",
       "    </tr>\n",
       "    <tr>\n",
       "      <th>nutriscore_grade</th>\n",
       "      <th></th>\n",
       "      <th></th>\n",
       "    </tr>\n",
       "  </thead>\n",
       "  <tbody>\n",
       "    <tr>\n",
       "      <th>a</th>\n",
       "      <td>62500</td>\n",
       "      <td>14.7</td>\n",
       "    </tr>\n",
       "    <tr>\n",
       "      <th>b</th>\n",
       "      <td>47033</td>\n",
       "      <td>11.1</td>\n",
       "    </tr>\n",
       "    <tr>\n",
       "      <th>c</th>\n",
       "      <td>81611</td>\n",
       "      <td>19.2</td>\n",
       "    </tr>\n",
       "    <tr>\n",
       "      <th>d</th>\n",
       "      <td>98591</td>\n",
       "      <td>23.2</td>\n",
       "    </tr>\n",
       "    <tr>\n",
       "      <th>e</th>\n",
       "      <td>134562</td>\n",
       "      <td>31.7</td>\n",
       "    </tr>\n",
       "  </tbody>\n",
       "</table>\n",
       "</div>"
      ],
      "text/plain": [
       "                   Count  Percentage (%)\n",
       "nutriscore_grade                        \n",
       "a                  62500            14.7\n",
       "b                  47033            11.1\n",
       "c                  81611            19.2\n",
       "d                  98591            23.2\n",
       "e                 134562            31.7"
      ]
     },
     "metadata": {},
     "output_type": "display_data"
    }
   ],
   "source": [
    "# Target Variable is nutriscore_grade\n",
    "# plot distribution of nutriscore grades\n",
    "grade_order = [\"a\", \"b\", \"c\", \"d\", \"e\"]\n",
    "counts = df[\"nutriscore_grade\"].value_counts().reindex(grade_order)\n",
    "counts.plot(kind=\"bar\")\n",
    "plt.xlabel(\"Nutriscore Grade\")\n",
    "plt.ylabel(\"Count\")\n",
    "plt.title(\"Distribution of Nutriscore Grades\")\n",
    "plt.xticks(rotation=0)\n",
    "plt.show()\n",
    "print(counts.to_dict())\n",
    "\n",
    "# Count and percentage\n",
    "counts = df[\"nutriscore_grade\"].value_counts().reindex(grade_order)\n",
    "percentages = (counts / counts.sum() * 100).round(1)\n",
    "\n",
    "# Combine into a summary DataFrame\n",
    "nutriscore_summary = pd.DataFrame({\n",
    "    \"Count\": counts.astype(int),\n",
    "    \"Percentage (%)\": percentages\n",
    "})\n",
    "display(nutriscore_summary)"
   ]
  },
  {
   "cell_type": "markdown",
   "id": "9f28a5d0",
   "metadata": {},
   "source": [
    "Nutri-Score classes: a, b, c, d, e (ordinal scale).\n",
    "\n",
    "- Most products fall under d (23%) and d (32%), indicating poorer nutritional quality.\n",
    "- a (15%) and b (11%) represent healthier foods.\n",
    "- Class imbalance exists — will address it in data preprocessing."
   ]
  },
  {
   "cell_type": "code",
   "execution_count": 239,
   "id": "d1ecc768",
   "metadata": {},
   "outputs": [
    {
     "data": {
      "image/png": "[encoded data removed]",
      "text/plain": [
       "<Figure size 600x600 with 1 Axes>"
      ]
     },
     "metadata": {},
     "output_type": "display_data"
    }
   ],
   "source": [
    "plt.figure(figsize=(6,6))\n",
    "plt.pie(counts, labels=grade_order, autopct='%1.1f%%', startangle=90,\n",
    "        colors=[\"yellow\",\"red\",\"orange\",\"blue\",\"green\"],\n",
    "        wedgeprops={'edgecolor':'black'})\n",
    "plt.title(\"Nutri-Score Class Proportions\", fontsize=14)\n",
    "plt.show()\n"
   ]
  },
  {
   "cell_type": "markdown",
   "id": "9f5eabbc",
   "metadata": {},
   "source": [
    "The pie chart reinforces the imbalance:\n",
    "- The blue/green slices (d, e) dominate the dataset.\n",
    "- Healthy classes a and b occupy smaller areas.\n",
    "- This imbalance might affect model learning and should be taken into consideration."
   ]
  },
  {
   "cell_type": "markdown",
   "id": "0c505547",
   "metadata": {},
   "source": [
    "### Missing Values"
   ]
  },
  {
   "cell_type": "code",
   "execution_count": 240,
   "id": "154b84b6",
   "metadata": {},
   "outputs": [
    {
     "data": {
      "text/plain": [
       "code                                  0\n",
       "brands                           116939\n",
       "product                              12\n",
       "lang                                  0\n",
       "categories_tags                       0\n",
       "food_groups_tags                      0\n",
       "labels_tags                      305699\n",
       "additives_n                           1\n",
       "additives_tags                        0\n",
       "allergens_tags                        0\n",
       "ingredients_analysis_tags            99\n",
       "ingredients_n                         1\n",
       "ingredients_from_palm_oil_n       85832\n",
       "ingredients                           0\n",
       "completeness                          0\n",
       "energy                             3980\n",
       "sugars                            13036\n",
       "added_sugars                     399463\n",
       "carbohydrates                      4804\n",
       "salt                               4116\n",
       "fat                                4002\n",
       "trans_fat                        173995\n",
       "proteins                           4015\n",
       "nutriscore_grade                      0\n",
       "num_categories_tags                   0\n",
       "num_food_groups_tags                  0\n",
       "num_labels_tags                       0\n",
       "num_additives_tags                    0\n",
       "num_allergens_tags                    0\n",
       "num_ingredients_analysis_tags         0\n",
       "ingredients_count                     0\n",
       "dtype: int64"
      ]
     },
     "execution_count": 240,
     "metadata": {},
     "output_type": "execute_result"
    }
   ],
   "source": [
    "# missing values per column\n",
    "df.isnull().sum()"
   ]
  },
  {
   "cell_type": "code",
   "execution_count": 241,
   "id": "9c47461f",
   "metadata": {},
   "outputs": [
    {
     "data": {
      "text/html": [
       "<div>\n",
       "<style scoped>\n",
       "    .dataframe tbody tr th:only-of-type {\n",
       "        vertical-align: middle;\n",
       "    }\n",
       "\n",
       "    .dataframe tbody tr th {\n",
       "        vertical-align: top;\n",
       "    }\n",
       "\n",
       "    .dataframe thead th {\n",
       "        text-align: right;\n",
       "    }\n",
       "</style>\n",
       "<table border=\"1\" class=\"dataframe\">\n",
       "  <thead>\n",
       "    <tr style=\"text-align: right;\">\n",
       "      <th></th>\n",
       "      <th>Missing Values</th>\n",
       "      <th>Missing %</th>\n",
       "    </tr>\n",
       "  </thead>\n",
       "  <tbody>\n",
       "    <tr>\n",
       "      <th>added_sugars</th>\n",
       "      <td>399463</td>\n",
       "      <td>94.15</td>\n",
       "    </tr>\n",
       "    <tr>\n",
       "      <th>labels_tags</th>\n",
       "      <td>305699</td>\n",
       "      <td>72.05</td>\n",
       "    </tr>\n",
       "    <tr>\n",
       "      <th>trans_fat</th>\n",
       "      <td>173995</td>\n",
       "      <td>41.01</td>\n",
       "    </tr>\n",
       "    <tr>\n",
       "      <th>brands</th>\n",
       "      <td>116939</td>\n",
       "      <td>27.56</td>\n",
       "    </tr>\n",
       "    <tr>\n",
       "      <th>ingredients_from_palm_oil_n</th>\n",
       "      <td>85832</td>\n",
       "      <td>20.23</td>\n",
       "    </tr>\n",
       "    <tr>\n",
       "      <th>sugars</th>\n",
       "      <td>13036</td>\n",
       "      <td>3.07</td>\n",
       "    </tr>\n",
       "    <tr>\n",
       "      <th>carbohydrates</th>\n",
       "      <td>4804</td>\n",
       "      <td>1.13</td>\n",
       "    </tr>\n",
       "    <tr>\n",
       "      <th>salt</th>\n",
       "      <td>4116</td>\n",
       "      <td>0.97</td>\n",
       "    </tr>\n",
       "    <tr>\n",
       "      <th>proteins</th>\n",
       "      <td>4015</td>\n",
       "      <td>0.95</td>\n",
       "    </tr>\n",
       "    <tr>\n",
       "      <th>fat</th>\n",
       "      <td>4002</td>\n",
       "      <td>0.94</td>\n",
       "    </tr>\n",
       "    <tr>\n",
       "      <th>energy</th>\n",
       "      <td>3980</td>\n",
       "      <td>0.94</td>\n",
       "    </tr>\n",
       "    <tr>\n",
       "      <th>ingredients_analysis_tags</th>\n",
       "      <td>99</td>\n",
       "      <td>0.02</td>\n",
       "    </tr>\n",
       "    <tr>\n",
       "      <th>num_categories_tags</th>\n",
       "      <td>0</td>\n",
       "      <td>0.00</td>\n",
       "    </tr>\n",
       "    <tr>\n",
       "      <th>num_food_groups_tags</th>\n",
       "      <td>0</td>\n",
       "      <td>0.00</td>\n",
       "    </tr>\n",
       "    <tr>\n",
       "      <th>num_labels_tags</th>\n",
       "      <td>0</td>\n",
       "      <td>0.00</td>\n",
       "    </tr>\n",
       "    <tr>\n",
       "      <th>num_additives_tags</th>\n",
       "      <td>0</td>\n",
       "      <td>0.00</td>\n",
       "    </tr>\n",
       "    <tr>\n",
       "      <th>num_allergens_tags</th>\n",
       "      <td>0</td>\n",
       "      <td>0.00</td>\n",
       "    </tr>\n",
       "    <tr>\n",
       "      <th>num_ingredients_analysis_tags</th>\n",
       "      <td>0</td>\n",
       "      <td>0.00</td>\n",
       "    </tr>\n",
       "    <tr>\n",
       "      <th>nutriscore_grade</th>\n",
       "      <td>0</td>\n",
       "      <td>0.00</td>\n",
       "    </tr>\n",
       "    <tr>\n",
       "      <th>code</th>\n",
       "      <td>0</td>\n",
       "      <td>0.00</td>\n",
       "    </tr>\n",
       "    <tr>\n",
       "      <th>completeness</th>\n",
       "      <td>0</td>\n",
       "      <td>0.00</td>\n",
       "    </tr>\n",
       "    <tr>\n",
       "      <th>ingredients</th>\n",
       "      <td>0</td>\n",
       "      <td>0.00</td>\n",
       "    </tr>\n",
       "    <tr>\n",
       "      <th>ingredients_n</th>\n",
       "      <td>1</td>\n",
       "      <td>0.00</td>\n",
       "    </tr>\n",
       "    <tr>\n",
       "      <th>allergens_tags</th>\n",
       "      <td>0</td>\n",
       "      <td>0.00</td>\n",
       "    </tr>\n",
       "    <tr>\n",
       "      <th>additives_tags</th>\n",
       "      <td>0</td>\n",
       "      <td>0.00</td>\n",
       "    </tr>\n",
       "    <tr>\n",
       "      <th>additives_n</th>\n",
       "      <td>1</td>\n",
       "      <td>0.00</td>\n",
       "    </tr>\n",
       "    <tr>\n",
       "      <th>food_groups_tags</th>\n",
       "      <td>0</td>\n",
       "      <td>0.00</td>\n",
       "    </tr>\n",
       "    <tr>\n",
       "      <th>categories_tags</th>\n",
       "      <td>0</td>\n",
       "      <td>0.00</td>\n",
       "    </tr>\n",
       "    <tr>\n",
       "      <th>lang</th>\n",
       "      <td>0</td>\n",
       "      <td>0.00</td>\n",
       "    </tr>\n",
       "    <tr>\n",
       "      <th>product</th>\n",
       "      <td>12</td>\n",
       "      <td>0.00</td>\n",
       "    </tr>\n",
       "    <tr>\n",
       "      <th>ingredients_count</th>\n",
       "      <td>0</td>\n",
       "      <td>0.00</td>\n",
       "    </tr>\n",
       "  </tbody>\n",
       "</table>\n",
       "</div>"
      ],
      "text/plain": [
       "                               Missing Values  Missing %\n",
       "added_sugars                           399463      94.15\n",
       "labels_tags                            305699      72.05\n",
       "trans_fat                              173995      41.01\n",
       "brands                                 116939      27.56\n",
       "ingredients_from_palm_oil_n             85832      20.23\n",
       "sugars                                  13036       3.07\n",
       "carbohydrates                            4804       1.13\n",
       "salt                                     4116       0.97\n",
       "proteins                                 4015       0.95\n",
       "fat                                      4002       0.94\n",
       "energy                                   3980       0.94\n",
       "ingredients_analysis_tags                  99       0.02\n",
       "num_categories_tags                         0       0.00\n",
       "num_food_groups_tags                        0       0.00\n",
       "num_labels_tags                             0       0.00\n",
       "num_additives_tags                          0       0.00\n",
       "num_allergens_tags                          0       0.00\n",
       "num_ingredients_analysis_tags               0       0.00\n",
       "nutriscore_grade                            0       0.00\n",
       "code                                        0       0.00\n",
       "completeness                                0       0.00\n",
       "ingredients                                 0       0.00\n",
       "ingredients_n                               1       0.00\n",
       "allergens_tags                              0       0.00\n",
       "additives_tags                              0       0.00\n",
       "additives_n                                 1       0.00\n",
       "food_groups_tags                            0       0.00\n",
       "categories_tags                             0       0.00\n",
       "lang                                        0       0.00\n",
       "product                                    12       0.00\n",
       "ingredients_count                           0       0.00"
      ]
     },
     "metadata": {},
     "output_type": "display_data"
    },
    {
     "name": "stdout",
     "output_type": "stream",
     "text": [
      "\n",
      "Duplicate rows: 0\n"
     ]
    }
   ],
   "source": [
    "# Missing values count and percent\n",
    "missing = df.isnull().sum()\n",
    "missing_percent = (missing / len(df) * 100).round(2)\n",
    "missing_df = pd.DataFrame({\"Missing Values\": missing, \"Missing %\": missing_percent})\n",
    "display(missing_df.sort_values(\"Missing %\", ascending=False))\n",
    "\n",
    "# Duplicates\n",
    "duplicates = df.duplicated().sum()\n",
    "print(f\"\\nDuplicate rows: {duplicates}\")\n"
   ]
  },
  {
   "cell_type": "markdown",
   "id": "8d1dba9b",
   "metadata": {},
   "source": [
    "- High missingness in: added_sugars (94%), labels_tags (72%), trans_fat (41%),brands (28%), and ingredients_from_palm_oil_n(20&).\n",
    "- Low missingness (<3%) in main nutrient columns including sugar, carbohydrates, salts, proteins, energy, fat, and etc.\n",
    "- No duplicate rows detected."
   ]
  },
  {
   "cell_type": "markdown",
   "id": "1a02946e",
   "metadata": {},
   "source": [
    "### Correlation and Trends"
   ]
  },
  {
   "cell_type": "markdown",
   "id": "fd5475ac",
   "metadata": {},
   "source": [
    "### EDA Results and Preprocessing Plan"
   ]
  },
  {
   "cell_type": "markdown",
   "id": "89014cb8",
   "metadata": {},
   "source": [
    "- Remove duplicate rows (same brand + product name) -> choose the product with highest completion %\n",
    "- Remove outliers with LARGE nutrients values (ex: Dorito Nacho Cheese - 329189)\n",
    "- Handle missing values (remove rows / fill in values)\n",
    "- Decide what tags to keep and create seperate columns for those tags (ex: `is_vegetarian`, `is_beverage`, `contains_nuts`, `contains_additives`, `gluten_free`)"
   ]
  }
 ],
 "metadata": {
  "kernelspec": {
   "display_name": "Python 3",
   "language": "python",
   "name": "python3"
  },
  "language_info": {
   "codemirror_mode": {
    "name": "ipython",
    "version": 3
   },
   "file_extension": ".py",
   "mimetype": "text/x-python",
   "name": "python",
   "nbconvert_exporter": "python",
   "pygments_lexer": "ipython3",
   "version": "3.13.2"
  }
 },
 "nbformat": 4,
 "nbformat_minor": 5
}
